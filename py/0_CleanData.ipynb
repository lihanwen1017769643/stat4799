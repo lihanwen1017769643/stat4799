{
 "cells": [
  {
   "cell_type": "markdown",
   "metadata": {},
   "source": [
    "# Clean Data"
   ]
  },
  {
   "cell_type": "code",
   "execution_count": 3,
   "metadata": {},
   "outputs": [],
   "source": [
    "# load packages\n",
    "import pandas as pd\n",
    "import numpy as np\n",
    "import warnings\n",
    "\n",
    "warnings.filterwarnings(\"ignore\")"
   ]
  },
  {
   "cell_type": "code",
   "execution_count": 2,
   "metadata": {},
   "outputs": [],
   "source": [
    "# read and clean file\n",
    "file_path = \"../data/adl19.csv\"\n",
    "df = pd.read_csv(file_path)\n",
    "df = df.fillna(-1).astype({\"G1fA\": \"int64\", \"G1gA\": \"int64\", \"G1hA\": \"int64\", \"G1iA\": \"int64\"}).replace(8, 6)"
   ]
  },
  {
   "cell_type": "code",
   "execution_count": 3,
   "metadata": {},
   "outputs": [],
   "source": [
    "# write all data in pickle/excel form\n",
    "write_path = \"../data/data.pkl\"\n",
    "df.to_pickle(write_path)\n",
    "\n",
    "write_path_excel = \"../data/data.xlsx\"\n",
    "with pd.ExcelWriter(write_path_excel) as writer:\n",
    "    df.to_excel(writer, sheet_name=\"data\", index=False)"
   ]
  },
  {
   "cell_type": "code",
   "execution_count": 4,
   "metadata": {},
   "outputs": [],
   "source": [
    "# write adl data in pickle/excel form\n",
    "adl = [x for x in df.columns if x.startswith(\"H2\")]\n",
    "df_adl = df[adl]\n",
    "\n",
    "write_path = \"../data/data_adl.pkl\"\n",
    "df_adl.to_pickle(write_path)\n",
    "\n",
    "write_path_excel = \"../data/data_adl.xlsx\"\n",
    "with pd.ExcelWriter(write_path_excel) as writer:\n",
    "    df_adl.to_excel(writer, sheet_name=\"data\", index=False)"
   ]
  },
  {
   "cell_type": "code",
   "execution_count": 56,
   "metadata": {},
   "outputs": [],
   "source": [
    "# transform adl data in one-hot form\n",
    "from sklearn.preprocessing import OneHotEncoder\n",
    "\n",
    "path = \"../data/data_adl.pkl\"\n",
    "df_adl = pd.read_pickle(path)\n",
    "\n",
    "df_adl_one_hot = np.array([])\n",
    "for i in range(df_adl.shape[0]):\n",
    "    encoder = OneHotEncoder(categories=[list(range(7))])\n",
    "    tmp = np.array(df_adl.iloc[i, :]).reshape(-1, 1)\n",
    "    tmp = encoder.fit_transform(tmp)\n",
    "    tmp = tmp.toarray()\n",
    "    df_adl_one_hot = np.append(df_adl_one_hot, tmp.reshape(1, -1))\n",
    "df_adl_one_hot = df_adl_one_hot.reshape(-1, 10*7)\n",
    "\n",
    "write_path = \"../data/data_adl_onehot.npy\"\n",
    "with open(write_path, 'wb') as f:\n",
    "    np.save(f, df_adl_one_hot)"
   ]
  },
  {
   "cell_type": "code",
   "execution_count": null,
   "metadata": {},
   "outputs": [],
   "source": []
  }
 ],
 "metadata": {
  "kernelspec": {
   "display_name": "Python 3.9.12 ('base')",
   "language": "python",
   "name": "python3"
  },
  "language_info": {
   "codemirror_mode": {
    "name": "ipython",
    "version": 3
   },
   "file_extension": ".py",
   "mimetype": "text/x-python",
   "name": "python",
   "nbconvert_exporter": "python",
   "pygments_lexer": "ipython3",
   "version": "3.9.12"
  },
  "orig_nbformat": 4,
  "vscode": {
   "interpreter": {
    "hash": "800b2c1448e2ea079d66e8039536a26ab9dab7a446f882031feb022006dbbbf7"
   }
  }
 },
 "nbformat": 4,
 "nbformat_minor": 2
}
