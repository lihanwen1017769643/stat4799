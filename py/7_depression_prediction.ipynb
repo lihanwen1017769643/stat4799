{
 "cells": [
  {
   "cell_type": "markdown",
   "metadata": {},
   "source": [
    "# Predict care givers’ depression"
   ]
  },
  {
   "cell_type": "markdown",
   "metadata": {},
   "source": [
    "## Initial Configuration"
   ]
  },
  {
   "cell_type": "code",
   "execution_count": 78,
   "metadata": {},
   "outputs": [],
   "source": [
    "import pandas as pd\n",
    "import numpy as np\n",
    "import matplotlib.pyplot as plt\n",
    "import warnings\n",
    "\n",
    "from sklearn.metrics import accuracy_score, roc_auc_score, confusion_matrix\n",
    "from sklearn.preprocessing import StandardScaler, MinMaxScaler\n",
    "from sklearn.metrics import mean_squared_error as mse\n",
    "from sklearn.metrics import plot_roc_curve\n",
    "from sklearn.metrics import roc_curve\n",
    "\n",
    "warnings.filterwarnings(\"ignore\")\n",
    "seed = 257248"
   ]
  },
  {
   "cell_type": "code",
   "execution_count": 79,
   "metadata": {},
   "outputs": [],
   "source": [
    "def evaluate(rf, train, valid, test, train_y, valid_y, return_pred=False, version=1, return_auc=False, plot_auc=False):\n",
    "    if version == 2:\n",
    "        rf_train_y = rf.predict(train)\n",
    "        rf_valid_y = rf.predict(valid)\n",
    "        pred = rf.predict(test)\n",
    "        acr_train = rf.score(train, train_y)\n",
    "        acr_valid = rf.score(valid, valid_y)\n",
    "        print(f\"Train Accuracy: {acr_train:.4f}; Validation Accuracy: {acr_valid:.4f}; Test: {np.sum(pred):>4d}\")\n",
    "        cm = confusion_matrix(train_y, rf_train_y)\n",
    "        tn, fp, fn, tp = cm.ravel()\n",
    "        print(f\"Train AUROC: {roc_auc_score(train_y, rf_train_y):.4f}; FP: {fp:>4d}; FN: {fn:>4d}\")\n",
    "        cm = confusion_matrix(valid_y, rf_valid_y)\n",
    "        tn, fp, fn, tp = cm.ravel()\n",
    "        print(f\"Valid AUROC: {roc_auc_score(valid_y, rf_valid_y):.4f}; FP: {fp:>4d}; FN: {fn:>4d}\")\n",
    "        print()\n",
    "    elif version == 3:\n",
    "        pred_train = rf.predict(train)\n",
    "        pred_valid = rf.predict(valid)\n",
    "        pred = rf.predict(test)\n",
    "        print(f\"Train RMSE: {mse(train_y, pred_train, squared=False):.4f}\")\n",
    "        print(f\"Valid RMSE: {mse(valid_y, pred_valid, squared=False):.4f}\")\n",
    "    else:\n",
    "        rf_train_y = rf.predict_proba(train)[:,1]\n",
    "        rf_valid_y = rf.predict_proba(valid)[:,1]\n",
    "        pred = rf.predict_proba(test)[:,1]\n",
    "        acr_train = rf.score(train, train_y)\n",
    "        acr_valid = rf.score(valid, valid_y)\n",
    "        print(f\"Train Accuracy: {acr_train:.4f}; Validation Accuracy: {acr_valid:.4f}\")\n",
    "        auc_train = roc_auc_score(train_y, rf_train_y)\n",
    "        auc_valid = roc_auc_score(valid_y, rf_valid_y)\n",
    "        print(f\"Train AUROC: {auc_train:.4f}\")\n",
    "        print(f\"Valid AUROC: {auc_valid:.4f}\")\n",
    "        print()\n",
    "    if plot_auc:\n",
    "        try:\n",
    "            fpr1, tpr1, thresholds1 = roc_curve(train_y, rf_train_y)\n",
    "            fpr2, tpr2, thresholds2 = roc_curve(valid_y, rf_valid_y)\n",
    "            plt.plot([0,1], 'k--')\n",
    "            plt.plot(fpr1, tpr1, label= \"Train\")\n",
    "            plt.plot(fpr2, tpr2, label= \"Valid\")\n",
    "            plt.legend()\n",
    "            plt.xlabel(\"FPR\")\n",
    "            plt.ylabel(\"TPR\")\n",
    "            plt.title('AUROC Curve')\n",
    "            plt.show()\n",
    "            # plot_roc_curve(rf, train, train_y)\n",
    "            # plot_roc_curve(rf, valid, valid_y)\n",
    "        except:\n",
    "            pass\n",
    "    if return_pred and return_auc and version == 1:\n",
    "        return pred, auc_train, auc_valid\n",
    "    elif return_pred:\n",
    "        return pred\n",
    "    else:\n",
    "        return"
   ]
  },
  {
   "cell_type": "markdown",
   "metadata": {},
   "source": [
    "## Load Data"
   ]
  },
  {
   "cell_type": "code",
   "execution_count": 73,
   "metadata": {},
   "outputs": [
    {
     "name": "stdout",
     "output_type": "stream",
     "text": [
      "25394\n"
     ]
    }
   ],
   "source": [
    "# modify dataset values for better model training\n",
    "data = pd.read_pickle(\"../data/data.pkl\")\n",
    "data[\"BB1\"] = data[\"BB1\"] - 1\n",
    "data[\"G1eA\"] = data[\"G1eA\"].replace({0: 1, 1: 0})\n",
    "data[\"G1fA\"] = data[\"G1fA\"].replace({-1: 4})\n",
    "data[\"G1gA\"] = data[\"G1gA\"].replace({0: 1, 1: 0})\n",
    "data[\"G1hA\"] = data[\"G1hA\"].replace({0: 1, 1: 0})\n",
    "data[\"G1iA\"] = data[\"G1iA\"].replace({0: 1, 1: 0})\n",
    "print(len(data))"
   ]
  },
  {
   "cell_type": "code",
   "execution_count": 74,
   "metadata": {},
   "outputs": [
    {
     "name": "stdout",
     "output_type": "stream",
     "text": [
      "24672 707 15\n"
     ]
    }
   ],
   "source": [
    "# split dataset based on \"G1eA\" value\n",
    "data_no_helper = data[data[\"G1eA\"] == 2]\n",
    "data_has_helper = data[data[\"G1eA\"] != 2]\n",
    "\n",
    "# discard observations with some missing criteria\n",
    "null_cols = [\"G1gA\", \"G1hA\", \"G1iA\"]\n",
    "data_discard = data_has_helper[\n",
    "    (data_has_helper[null_cols[0]] == -1)\n",
    "    | (data_has_helper[null_cols[1]] == -1)\n",
    "    | (data_has_helper[null_cols[2]] == -1)\n",
    "]\n",
    "data_has_helper = data_has_helper[~data_has_helper.index.isin(data_discard.index)]\n",
    "data_has_helper_index = data_has_helper.index\n",
    "data_no_helper_index = data_no_helper.index\n",
    "\n",
    "print(f\"{len(data_has_helper)} {len(data_no_helper)} {len(data_discard)}\")"
   ]
  },
  {
   "cell_type": "markdown",
   "metadata": {},
   "source": [
    "- `sex`  \n",
    "    - `0` represents **male**\n",
    "    - `1` represents **female**  \n",
    "- `live_with_client`\n",
    "    - `0` represents **No**\n",
    "    - `1` represents **Yes**\n",
    "    - `2` represents **No such helper**  \n",
    "- `relationship`\n",
    "    - `0` represents **Child or child-in-law or grandchild**\n",
    "    - `1` represents **Spouse** \n",
    "    - `2` represents **Other relative**\n",
    "    - `3` represents **Friend/neighbor**\n",
    "    - `4` repressents **Others (e.g. maid)**\n",
    "- `advice`\n",
    "    - `0` represents **No**\n",
    "    - `1` represents **Yes**\n",
    "- `iadl`\n",
    "    - `0` represents **No**\n",
    "    - `1` represents **Yes**\n",
    "- `adl`\n",
    "    - `0` represents **No**\n",
    "    - `1` represents **Yes**"
   ]
  },
  {
   "cell_type": "code",
   "execution_count": 75,
   "metadata": {},
   "outputs": [],
   "source": [
    "# modify column names\n",
    "modify_column_names = {\n",
    "    \"BB1\": \"sex\",\n",
    "    \"G1eA\": \"live_with_client\",\n",
    "    \"G1fA\": \"relationship\",\n",
    "    \"G1gA\": \"advice\",\n",
    "    \"G1hA\": \"iadl\",\n",
    "    \"G1iA\": \"adl\",\n",
    "}\n",
    "data_has_helper.rename(columns=modify_column_names, inplace=True)\n",
    "data_no_helper.rename(columns=modify_column_names, inplace=True)"
   ]
  },
  {
   "cell_type": "markdown",
   "metadata": {},
   "source": [
    "## Model Fitting"
   ]
  },
  {
   "cell_type": "markdown",
   "metadata": {},
   "source": [
    "### Logistic Regression"
   ]
  },
  {
   "cell_type": "code",
   "execution_count": 76,
   "metadata": {},
   "outputs": [],
   "source": [
    "from sklearn.linear_model import LogisticRegression"
   ]
  },
  {
   "cell_type": "code",
   "execution_count": 80,
   "metadata": {},
   "outputs": [],
   "source": [
    "def LR(train, valid, test, train_y, valid_y, plot_auc=True):\n",
    "    reg = LogisticRegression(solver='lbfgs', max_iter=100, C=1e-5, penalty=\"l2\", multi_class=\"ovr\", class_weight=None, random_state=seed)\n",
    "    reg.fit(train, train_y)\n",
    "    return evaluate(reg, train, valid, test, train_y, valid_y, return_pred=True, plot_auc=True)"
   ]
  },
  {
   "cell_type": "code",
   "execution_count": null,
   "metadata": {},
   "outputs": [],
   "source": [
    "# pred_test = LR(train, valid, test, train_y, valid_y)\n",
    "print()"
   ]
  }
 ],
 "metadata": {
  "kernelspec": {
   "display_name": "Python 3.9.12 ('base')",
   "language": "python",
   "name": "python3"
  },
  "language_info": {
   "codemirror_mode": {
    "name": "ipython",
    "version": 3
   },
   "file_extension": ".py",
   "mimetype": "text/x-python",
   "name": "python",
   "nbconvert_exporter": "python",
   "pygments_lexer": "ipython3",
   "version": "3.9.12"
  },
  "orig_nbformat": 4,
  "vscode": {
   "interpreter": {
    "hash": "800b2c1448e2ea079d66e8039536a26ab9dab7a446f882031feb022006dbbbf7"
   }
  }
 },
 "nbformat": 4,
 "nbformat_minor": 2
}
