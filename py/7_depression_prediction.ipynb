{
 "cells": [
  {
   "cell_type": "markdown",
   "metadata": {},
   "source": [
    "# Predict care givers’ depression"
   ]
  },
  {
   "cell_type": "markdown",
   "metadata": {},
   "source": [
    "## Initial Configuration"
   ]
  },
  {
   "cell_type": "code",
   "execution_count": 16,
   "metadata": {},
   "outputs": [],
   "source": [
    "import pandas as pd\n",
    "import numpy as np\n",
    "import warnings\n",
    "\n",
    "warnings.filterwarnings(\"ignore\")"
   ]
  },
  {
   "cell_type": "code",
   "execution_count": 17,
   "metadata": {},
   "outputs": [
    {
     "name": "stdout",
     "output_type": "stream",
     "text": [
      "24669\n"
     ]
    }
   ],
   "source": [
    "# fetch observations without any missing values\n",
    "data = pd.read_pickle(\"../data/data.pkl\")\n",
    "null_cols = [\"G1fA\", \"G1gA\", \"G1hA\", \"G1iA\"]\n",
    "data = data[\n",
    "    (data[null_cols[0]] != -1)\n",
    "    & (data[null_cols[1]] != -1)\n",
    "    & (data[null_cols[2]] != -1)\n",
    "    & (data[null_cols[3]] != -1)\n",
    "]\n",
    "print(len(data))"
   ]
  },
  {
   "cell_type": "code",
   "execution_count": null,
   "metadata": {},
   "outputs": [],
   "source": []
  }
 ],
 "metadata": {
  "kernelspec": {
   "display_name": "Python 3.9.12 ('base')",
   "language": "python",
   "name": "python3"
  },
  "language_info": {
   "codemirror_mode": {
    "name": "ipython",
    "version": 3
   },
   "file_extension": ".py",
   "mimetype": "text/x-python",
   "name": "python",
   "nbconvert_exporter": "python",
   "pygments_lexer": "ipython3",
   "version": "3.9.12"
  },
  "orig_nbformat": 4,
  "vscode": {
   "interpreter": {
    "hash": "800b2c1448e2ea079d66e8039536a26ab9dab7a446f882031feb022006dbbbf7"
   }
  }
 },
 "nbformat": 4,
 "nbformat_minor": 2
}
