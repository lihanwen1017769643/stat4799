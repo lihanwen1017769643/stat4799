{
 "cells": [
  {
   "cell_type": "markdown",
   "metadata": {},
   "source": [
    "# Predict care givers’ depression"
   ]
  },
  {
   "cell_type": "markdown",
   "metadata": {},
   "source": [
    "## Initial Configuration"
   ]
  },
  {
   "cell_type": "code",
   "execution_count": 67,
   "metadata": {},
   "outputs": [],
   "source": [
    "import pandas as pd\n",
    "import numpy as np\n",
    "import warnings\n",
    "\n",
    "warnings.filterwarnings(\"ignore\")"
   ]
  },
  {
   "cell_type": "code",
   "execution_count": 68,
   "metadata": {},
   "outputs": [
    {
     "name": "stdout",
     "output_type": "stream",
     "text": [
      "25394\n"
     ]
    }
   ],
   "source": [
    "# modify dataset values for better model training\n",
    "data = pd.read_pickle(\"../data/data.pkl\")\n",
    "data[\"BB1\"] = data[\"BB1\"] - 1\n",
    "data[\"G1eA\"] = data[\"G1eA\"].replace({0: 1, 1: 0})\n",
    "data[\"G1fA\"] = data[\"G1fA\"].replace({-1: 4})\n",
    "data[\"G1gA\"] = data[\"G1gA\"].replace({0: 1, 1: 0})\n",
    "data[\"G1hA\"] = data[\"G1hA\"].replace({0: 1, 1: 0})\n",
    "data[\"G1iA\"] = data[\"G1iA\"].replace({0: 1, 1: 0})\n",
    "print(len(data))"
   ]
  },
  {
   "cell_type": "code",
   "execution_count": 69,
   "metadata": {},
   "outputs": [
    {
     "name": "stdout",
     "output_type": "stream",
     "text": [
      "24672 707 15\n"
     ]
    }
   ],
   "source": [
    "# split dataset based on \"G1eA\" value\n",
    "data_no_helper = data[data[\"G1eA\"] == 2]\n",
    "data_has_helper = data[data[\"G1eA\"] != 2]\n",
    "\n",
    "# discard observations with some missing criteria\n",
    "null_cols = [\"G1gA\", \"G1hA\", \"G1iA\"]\n",
    "data_discard = data_has_helper[\n",
    "    (data_has_helper[null_cols[0]] == -1)\n",
    "    | (data_has_helper[null_cols[1]] == -1)\n",
    "    | (data_has_helper[null_cols[2]] == -1)\n",
    "]\n",
    "data_has_helper = data_has_helper[~data_has_helper.index.isin(data_discard.index)]\n",
    "\n",
    "print(f\"{len(data_has_helper)} {len(data_no_helper)} {len(data_discard)}\")"
   ]
  },
  {
   "cell_type": "markdown",
   "metadata": {},
   "source": [
    "- `sex`  \n",
    "    - `0` represents **male**\n",
    "    - `1` represents **female**  \n",
    "- `live_with_client`\n",
    "    - `0` represents **No**\n",
    "    - `1` represents **Yes**\n",
    "    - `2` represents **No such helper**  \n",
    "- `relationship`\n",
    "    - `0` represents **Child or child-in-law or grandchild**\n",
    "    - `1` represents **Spouse** \n",
    "    - `2` represents **Other relative**\n",
    "    - `3` represents **Friend/neighbor**\n",
    "    - `4` repressents **Others (e.g. maid)**\n",
    "- `advice`\n",
    "    - `0` represents **No**\n",
    "    - `1` represents **Yes**\n",
    "- `iadl`\n",
    "    - `0` represents **No**\n",
    "    - `1` represents **Yes**\n",
    "- `adl`\n",
    "    - `0` represents **No**\n",
    "    - `1` represents **Yes**"
   ]
  },
  {
   "cell_type": "code",
   "execution_count": 70,
   "metadata": {},
   "outputs": [],
   "source": [
    "# modify column names\n",
    "modify_column_names = {\n",
    "    \"BB1\": \"sex\",\n",
    "    \"G1eA\": \"live_with_client\",\n",
    "    \"G1fA\": \"relationship\",\n",
    "    \"G1gA\": \"advice\",\n",
    "    \"G1hA\": \"iadl\",\n",
    "    \"G1iA\": \"adl\",\n",
    "}\n",
    "data_has_helper.rename(columns=modify_column_names, inplace=True)\n",
    "data_no_helper.rename(columns=modify_column_names, inplace=True)"
   ]
  },
  {
   "cell_type": "code",
   "execution_count": null,
   "metadata": {},
   "outputs": [],
   "source": []
  }
 ],
 "metadata": {
  "kernelspec": {
   "display_name": "Python 3.9.12 ('base')",
   "language": "python",
   "name": "python3"
  },
  "language_info": {
   "codemirror_mode": {
    "name": "ipython",
    "version": 3
   },
   "file_extension": ".py",
   "mimetype": "text/x-python",
   "name": "python",
   "nbconvert_exporter": "python",
   "pygments_lexer": "ipython3",
   "version": "3.9.12"
  },
  "orig_nbformat": 4,
  "vscode": {
   "interpreter": {
    "hash": "800b2c1448e2ea079d66e8039536a26ab9dab7a446f882031feb022006dbbbf7"
   }
  }
 },
 "nbformat": 4,
 "nbformat_minor": 2
}
