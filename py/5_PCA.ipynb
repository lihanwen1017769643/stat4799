{
 "cells": [
  {
   "cell_type": "markdown",
   "metadata": {},
   "source": [
    "# Principal Components Analysis"
   ]
  },
  {
   "cell_type": "markdown",
   "metadata": {},
   "source": [
    "## Preprocess"
   ]
  },
  {
   "cell_type": "code",
   "execution_count": 1,
   "metadata": {},
   "outputs": [],
   "source": [
    "# load packages\n",
    "import pandas as pd\n",
    "import numpy as np\n",
    "import matplotlib.pyplot as plt\n",
    "from sklearn.decomposition import PCA\n",
    "# from statsmodels.multivariate.pca import PCA\n",
    "import warnings\n",
    "\n",
    "warnings.filterwarnings(\"ignore\")"
   ]
  },
  {
   "cell_type": "code",
   "execution_count": 2,
   "metadata": {},
   "outputs": [],
   "source": [
    "# read file\n",
    "adl_path = \"../data/data_adl.pkl\"\n",
    "df = pd.read_pickle(adl_path)"
   ]
  },
  {
   "cell_type": "markdown",
   "metadata": {},
   "source": [
    "## Function Definition"
   ]
  },
  {
   "cell_type": "code",
   "execution_count": 3,
   "metadata": {},
   "outputs": [],
   "source": [
    "def pca_result(df, n=1):\n",
    "    pca = PCA(n_components=n)\n",
    "    df_nd = pca.fit_transform(df)\n",
    "    df_recon = pca.inverse_transform(df_nd).round(0)\n",
    "    df_recon[df_recon<=0] = 0\n",
    "    df_recon_err = np.mean(np.sum(np.square(df_recon - df), axis=1))\n",
    "    cols = [(\"Component\" + str(i+1)) for i in range(pca.components_.shape[0])]\n",
    "    components = pd.DataFrame(pca.components_.T, columns=cols, index=df.columns)\n",
    "    explained_var = pca.explained_variance_ratio_.sum()\n",
    "    result = {\n",
    "        \"pca\": pca,\n",
    "        \"pca_components\": components,\n",
    "        \"explained_variance\": explained_var,\n",
    "        \"data_dimension_reduction\": df_nd,\n",
    "        \"data_reconstruction\": df_recon,\n",
    "        \"data_reconstruction_error\": df_recon_err,\n",
    "    }\n",
    "    return result"
   ]
  },
  {
   "cell_type": "markdown",
   "metadata": {},
   "source": [
    "## PCA"
   ]
  },
  {
   "cell_type": "code",
   "execution_count": 4,
   "metadata": {},
   "outputs": [],
   "source": [
    "pca1 = pca_result(df, 1)\n",
    "pca2 = pca_result(df, 2)\n",
    "pca3 = pca_result(df, 3)"
   ]
  },
  {
   "cell_type": "code",
   "execution_count": 5,
   "metadata": {},
   "outputs": [],
   "source": [
    "df_pca1 = np.array(df) @ np.array(pca1[\"pca_components\"])\n",
    "df_pca2 = np.array(df) @ np.array(pca2[\"pca_components\"])\n",
    "df_pca3 = np.array(df) @ np.array(pca3[\"pca_components\"])"
   ]
  },
  {
   "attachments": {},
   "cell_type": "markdown",
   "metadata": {},
   "source": [
    "### Scree plot"
   ]
  },
  {
   "cell_type": "code",
   "execution_count": 6,
   "metadata": {},
   "outputs": [
    {
     "data": {
      "image/png": "[encoded data removed]",
      "text/plain": [
       "<Figure size 432x288 with 1 Axes>"
      ]
     },
     "metadata": {
      "needs_background": "light"
     },
     "output_type": "display_data"
    }
   ],
   "source": [
    "pca = pca_result(df, df.shape[1])[\"pca\"]\n",
    "PC_values = np.arange(pca.n_components_) + 1\n",
    "plt.plot(PC_values, pca.explained_variance_ratio_, 'ro-', linewidth=2)\n",
    "plt.xlim(left=0)\n",
    "plt.ylim(top=0.8, bottom=0)\n",
    "plt.title('Scree Plot')\n",
    "plt.xlabel('Principal Component')\n",
    "plt.ylabel('Proportion of Variance Explained')\n",
    "plt.savefig(\"../fig/pca_scree.png\")\n",
    "plt.show()"
   ]
  },
  {
   "cell_type": "code",
   "execution_count": 7,
   "metadata": {},
   "outputs": [
    {
     "data": {
      "image/png": "[encoded data removed]",
      "text/plain": [
       "<Figure size 432x288 with 1 Axes>"
      ]
     },
     "metadata": {
      "needs_background": "light"
     },
     "output_type": "display_data"
    }
   ],
   "source": [
    "pca = pca_result(df, df.shape[1])[\"pca\"]\n",
    "PC_values = np.arange(pca.n_components_) + 1\n",
    "plt.plot(PC_values, np.cumsum(pca.explained_variance_ratio_), 'ro-', linewidth=2, color=\"blue\")\n",
    "plt.xlim(left=0)\n",
    "plt.ylim(top=1.1, bottom=0)\n",
    "plt.title('Cumulative Variance Plot')\n",
    "plt.xlabel('Principal Component')\n",
    "plt.ylabel('Cumulative Variance Explained')\n",
    "plt.hlines(y=1, xmin=0, xmax=11, colors='red', linestyle=\"dashed\")\n",
    "plt.savefig(\"../fig/pca_cum_var.png\")\n",
    "plt.show()"
   ]
  },
  {
   "attachments": {},
   "cell_type": "markdown",
   "metadata": {},
   "source": [
    "### 1 PC"
   ]
  },
  {
   "cell_type": "code",
   "execution_count": 8,
   "metadata": {},
   "outputs": [
    {
     "name": "stdout",
     "output_type": "stream",
     "text": [
      "1 PC: explained variance = 0.7301\n"
     ]
    }
   ],
   "source": [
    "print(f\"{1} PC: explained variance = {pca1['explained_variance']:.4f}\")"
   ]
  },
  {
   "attachments": {},
   "cell_type": "markdown",
   "metadata": {},
   "source": [
    "### 2 PCs"
   ]
  },
  {
   "cell_type": "code",
   "execution_count": 9,
   "metadata": {},
   "outputs": [
    {
     "name": "stdout",
     "output_type": "stream",
     "text": [
      "2 PCs: explained variance = 0.8277\n"
     ]
    }
   ],
   "source": [
    "print(f\"{2} PCs: explained variance = {pca2['explained_variance']:.4f}\")"
   ]
  },
  {
   "attachments": {},
   "cell_type": "markdown",
   "metadata": {},
   "source": [
    "### 3 PCs"
   ]
  },
  {
   "cell_type": "code",
   "execution_count": 10,
   "metadata": {},
   "outputs": [
    {
     "name": "stdout",
     "output_type": "stream",
     "text": [
      "3 PCs: explained variance = 0.8702\n"
     ]
    }
   ],
   "source": [
    "print(f\"{3} PCs: explained variance = {pca3['explained_variance']:.4f}\")"
   ]
  },
  {
   "attachments": {},
   "cell_type": "markdown",
   "metadata": {},
   "source": [
    "### MLE"
   ]
  },
  {
   "cell_type": "code",
   "execution_count": 11,
   "metadata": {},
   "outputs": [
    {
     "data": {
      "text/plain": [
       "9"
      ]
     },
     "execution_count": 11,
     "metadata": {},
     "output_type": "execute_result"
    }
   ],
   "source": [
    "pca = PCA(n_components=\"mle\")\n",
    "pca.fit(df)\n",
    "pca.n_components_"
   ]
  },
  {
   "attachments": {},
   "cell_type": "markdown",
   "metadata": {},
   "source": [
    "## Write Files"
   ]
  },
  {
   "cell_type": "code",
   "execution_count": 12,
   "metadata": {},
   "outputs": [],
   "source": [
    "with open(\"../npy/data_adl_pca1.npy\", 'wb') as f:\n",
    "    np.save(f, df_pca1)\n",
    "with open(\"../npy/data_adl_pca2.npy\", 'wb') as f:\n",
    "    np.save(f, df_pca2)\n",
    "with open(\"../npy/data_adl_pca3.npy\", 'wb') as f:\n",
    "    np.save(f, df_pca3)"
   ]
  },
  {
   "cell_type": "code",
   "execution_count": 13,
   "metadata": {},
   "outputs": [],
   "source": [
    "writer = pd.ExcelWriter('../table/pca_pc.xlsx', engine='xlsxwriter')\n",
    "\n",
    "pcs = np.round(pca_result(df, df.shape[1])[\"pca_components\"], 4)\n",
    "old_names = [f\"Component{i}\" for i in range(1, df.shape[1] + 1)]\n",
    "new_names = [f\"PC{i}\" for i in range(1, df.shape[1] + 1)]\n",
    "pcs = pcs.rename(columns=dict(zip(old_names, new_names)))\n",
    "pcs.to_excel(writer, sheet_name='pc')\n",
    "pcs.iloc[:, :5].to_excel(writer, sheet_name='pc1-5')\n",
    "pcs.iloc[:, 5:].to_excel(writer, sheet_name='pc6-10')\n",
    "\n",
    "writer.close()"
   ]
  }
 ],
 "metadata": {
  "kernelspec": {
   "display_name": "Python 3.9.13 64-bit",
   "language": "python",
   "name": "python3"
  },
  "language_info": {
   "codemirror_mode": {
    "name": "ipython",
    "version": 3
   },
   "file_extension": ".py",
   "mimetype": "text/x-python",
   "name": "python",
   "nbconvert_exporter": "python",
   "pygments_lexer": "ipython3",
   "version": "3.9.12"
  },
  "orig_nbformat": 4,
  "vscode": {
   "interpreter": {
    "hash": "aee8b7b246df8f9039afb4144a1f6fd8d2ca17a180786b69acc140d282b71a49"
   }
  }
 },
 "nbformat": 4,
 "nbformat_minor": 2
}
