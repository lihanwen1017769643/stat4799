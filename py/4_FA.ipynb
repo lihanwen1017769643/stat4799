{
 "cells": [
  {
   "cell_type": "markdown",
   "metadata": {},
   "source": [
    "# Factor Analysis"
   ]
  },
  {
   "cell_type": "markdown",
   "metadata": {},
   "source": [
    "## Preprocess"
   ]
  },
  {
   "cell_type": "code",
   "execution_count": 104,
   "metadata": {},
   "outputs": [],
   "source": [
    "# load packages\n",
    "import pandas as pd\n",
    "import numpy as np\n",
    "import matplotlib.pyplot as plt\n",
    "from factor_analyzer import FactorAnalyzer, calculate_kmo, calculate_bartlett_sphericity\n",
    "import os\n",
    "import warnings\n",
    "\n",
    "warnings.filterwarnings(\"ignore\")"
   ]
  },
  {
   "cell_type": "code",
   "execution_count": 105,
   "metadata": {},
   "outputs": [],
   "source": [
    "# read file\n",
    "adl_path = \"../data/data_adl.pkl\"\n",
    "df = pd.read_pickle(adl_path)"
   ]
  },
  {
   "cell_type": "code",
   "execution_count": 106,
   "metadata": {},
   "outputs": [
    {
     "name": "stdout",
     "output_type": "stream",
     "text": [
      "Factor Analysis Suitability Test\n",
      "KMO statistic: 276143.2095\n",
      "KMO: 0.9428\n",
      "Bartlett: 0.0000\n",
      "FA suitability test passes!\n"
     ]
    }
   ],
   "source": [
    "# bartlett and kmo test\n",
    "kmo = calculate_kmo(df)\n",
    "bartlett = calculate_bartlett_sphericity(df)\n",
    "print(\"Factor Analysis Suitability Test\")\n",
    "print(f\"KMO statistic: {bartlett[0]:.4f}\")\n",
    "print(\"KMO: {:.4f}\\nBartlett: {:.4f}\".format(kmo[1], bartlett[1]))\n",
    "if kmo[1] > 0.9 and bartlett[1] < 0.05:\n",
    "    print(\"FA suitability test passes!\")"
   ]
  },
  {
   "cell_type": "markdown",
   "metadata": {},
   "source": [
    "## Function Definition"
   ]
  },
  {
   "cell_type": "code",
   "execution_count": 107,
   "metadata": {},
   "outputs": [],
   "source": [
    "def factor_analysis(df, factor=1, rot=None, m=\"principal\"):\n",
    "    fa = FactorAnalyzer(n_factors=factor, method=m, rotation=rot)\n",
    "    fa.fit(df)\n",
    "    return fa"
   ]
  },
  {
   "cell_type": "code",
   "execution_count": 108,
   "metadata": {},
   "outputs": [],
   "source": [
    "def scree_plot(df, original=True, method=\"principal\", plot=True):\n",
    "    fa = factor_analysis(df, df.shape[1], rot=None, m=method)\n",
    "    ev = np.array(fa.get_eigenvalues()).T\n",
    "    df_ev = pd.DataFrame(ev, columns=[\"Original Eigenvalues\", \"Common Factor Eigenvalues\"], index=df.columns)\n",
    "    if plot:\n",
    "        ev_dat = df_ev.iloc[:, 0].copy() if original else df_ev.iloc[:, 1].copy()\n",
    "        plt.scatter(range(1, df.shape[1]+1), ev_dat)\n",
    "        plt.plot(range(1, df.shape[1]+1), ev_dat)\n",
    "        plt.title('Scree Plot')\n",
    "        plt.xlabel('Factors')\n",
    "        plt.ylabel('Eigenvalue')\n",
    "        plt.grid()\n",
    "        plt.show()\n",
    "    return df_ev"
   ]
  },
  {
   "cell_type": "code",
   "execution_count": 109,
   "metadata": {},
   "outputs": [],
   "source": [
    "def variance_explained_plot(df, var_type=0, method=\"principal\", plot=True):\n",
    "    fa = factor_analysis(df, df.shape[1], rot=None, m=method)\n",
    "    var = np.array(fa.get_factor_variance()).T\n",
    "    df_var = pd.DataFrame(var, columns=[\"Variance\", \"Proportional Variance\", \"Cumulative Variance\"], index=df.columns)\n",
    "    var_list = [df_var[i] for i in df_var.columns]\n",
    "    if plot:\n",
    "        var_dat = var_list[var_type]\n",
    "        plt.scatter(range(1, df.shape[1]+1), var_dat)\n",
    "        plt.plot(range(1, df.shape[1]+1), var_dat)\n",
    "        plt.title(f'{var_dat.name} Plot')\n",
    "        plt.xlabel('Factors')\n",
    "        plt.ylim((0, 1.1))\n",
    "        plt.grid()\n",
    "        plt.show()\n",
    "    var, pvar, cvar = var_list\n",
    "    return var, pvar, cvar"
   ]
  },
  {
   "cell_type": "code",
   "execution_count": 110,
   "metadata": {},
   "outputs": [],
   "source": [
    "def fa_result(df, fa):\n",
    "    cols = [(\"Factor\" + str(i+1)) for i in range(fa.loadings_.shape[1])]\n",
    "    loadings = pd.DataFrame(fa.loadings_, columns=cols, index=df.columns)\n",
    "    communalities = pd.DataFrame(fa.get_communalities(), columns=[\"Communalities\"], index=df.columns)\n",
    "    uniquenesses = pd.DataFrame(fa.get_uniquenesses(), columns=[\"Uniquenesses\"], index=df.columns)\n",
    "    result = pd.concat([loadings, communalities, uniquenesses], axis=1)\n",
    "    score = pd.DataFrame(fa.transform(df))\n",
    "    return result, score"
   ]
  },
  {
   "cell_type": "code",
   "execution_count": 111,
   "metadata": {},
   "outputs": [],
   "source": [
    "def loadings_plot(df, title=\"\", xlabel=\"Factor1\", ylabel=\"Factor2\", ax=None):\n",
    "    col_num = len(df.columns)\n",
    "    if col_num == 2:\n",
    "        if ax is None:\n",
    "            plt.scatter(df[df.columns[0]], df[df.columns[1]])\n",
    "            for i in range(df.shape[0]):\n",
    "                plt.text(x=df[df.columns[0]][i], y=df[df.columns[1]][i], s=df.index[i])\n",
    "            if title:\n",
    "                plt.title(title)\n",
    "            else:\n",
    "                plt.title(\"Loadings Plot\")\n",
    "            plt.xlabel(xlabel)\n",
    "            plt.ylabel(ylabel)\n",
    "            plt.axvline(x=0, color='blue')\n",
    "            plt.axhline(y=0, color='blue')\n",
    "            plt.show()\n",
    "        else:\n",
    "            ax.scatter(df[df.columns[0]], df[df.columns[1]])\n",
    "            for i in range(df.shape[0]):\n",
    "                ax.text(x=df[df.columns[0]][i], y=df[df.columns[1]][i], s=df.index[i])\n",
    "            if title:\n",
    "                ax.set_title(title)\n",
    "            else:\n",
    "                ax.set_title(\"Loadings Plot\")\n",
    "            ax.set_xlabel(xlabel)\n",
    "            ax.set_ylabel(ylabel)\n",
    "            ax.axvline(x=0, color='blue')\n",
    "            ax.axhline(y=0, color='blue')\n",
    "            # ax.show()"
   ]
  },
  {
   "cell_type": "markdown",
   "metadata": {},
   "source": [
    "## PCFA"
   ]
  },
  {
   "cell_type": "code",
   "execution_count": 112,
   "metadata": {},
   "outputs": [
    {
     "data": {
      "image/png": "[encoded data removed]",
      "text/plain": [
       "<Figure size 432x288 with 1 Axes>"
      ]
     },
     "metadata": {
      "needs_background": "light"
     },
     "output_type": "display_data"
    },
    {
     "data": {
      "image/png": "[encoded data removed]",
      "text/plain": [
       "<Figure size 432x288 with 1 Axes>"
      ]
     },
     "metadata": {
      "needs_background": "light"
     },
     "output_type": "display_data"
    }
   ],
   "source": [
    "pcfa_ev = scree_plot(df)\n",
    "pcfa_var, pcfa_pvar, pcfa_cvar = variance_explained_plot(df, var_type=2)"
   ]
  },
  {
   "cell_type": "code",
   "execution_count": 113,
   "metadata": {},
   "outputs": [],
   "source": [
    "pc_result, pc_score, pc_label = [], [], []\n",
    "lbl = \"pcfa\"\n",
    "for i in range(1, 4):\n",
    "    for rotation in [None, \"varimax\"]:\n",
    "        tmp_lbl = lbl + str(i)\n",
    "        pcfa = fa_result(df, factor_analysis(df, factor=i, rot=rotation))\n",
    "        pc_result.append(pcfa[0])\n",
    "        pc_score.append(pcfa[1])\n",
    "        if rotation:\n",
    "            tmp_lbl = tmp_lbl + \"_\" + rotation\n",
    "        pc_label.append(tmp_lbl)"
   ]
  },
  {
   "cell_type": "code",
   "execution_count": 114,
   "metadata": {},
   "outputs": [],
   "source": [
    "for i in range(len(pc_score)):\n",
    "    df_score = pc_score[i].to_numpy()\n",
    "    with open(f\"../npy/data_adl_{pc_label[i]}.npy\", 'wb') as f:\n",
    "        np.save(f, df_score)"
   ]
  },
  {
   "cell_type": "markdown",
   "metadata": {},
   "source": [
    "## MLFA"
   ]
  },
  {
   "cell_type": "code",
   "execution_count": 115,
   "metadata": {},
   "outputs": [
    {
     "data": {
      "image/png": "[encoded data removed]",
      "text/plain": [
       "<Figure size 432x288 with 1 Axes>"
      ]
     },
     "metadata": {
      "needs_background": "light"
     },
     "output_type": "display_data"
    },
    {
     "data": {
      "image/png": "[encoded data removed]",
      "text/plain": [
       "<Figure size 432x288 with 1 Axes>"
      ]
     },
     "metadata": {
      "needs_background": "light"
     },
     "output_type": "display_data"
    }
   ],
   "source": [
    "mlfa_ev = scree_plot(df, method=\"ml\")\n",
    "mlfa_var, mlfa_pvar, mlfa_cvar = variance_explained_plot(df, var_type=2, method=\"ml\")"
   ]
  },
  {
   "cell_type": "code",
   "execution_count": 116,
   "metadata": {},
   "outputs": [],
   "source": [
    "ml_result, ml_score, ml_label = [], [], []\n",
    "lbl = \"mlfa\"\n",
    "for i in range(1, 4):\n",
    "    for rotation in [None, \"varimax\", \"oblimin\"]:\n",
    "        tmp_lbl = lbl + str(i)\n",
    "        mlfa = fa_result(df, factor_analysis(df, factor=i, rot=rotation, m=\"ml\"))\n",
    "        ml_result.append(mlfa[0])\n",
    "        ml_score.append(mlfa[1])\n",
    "        if rotation:\n",
    "            tmp_lbl = tmp_lbl + \"_\" + rotation\n",
    "        ml_label.append(tmp_lbl)"
   ]
  },
  {
   "cell_type": "code",
   "execution_count": 117,
   "metadata": {},
   "outputs": [],
   "source": [
    "for i in range(len(ml_score)):\n",
    "    df_score = ml_score[i].to_numpy()\n",
    "    with open(f\"../npy/data_adl_{ml_label[i]}.npy\", 'wb') as f:\n",
    "        np.save(f, df_score)"
   ]
  },
  {
   "cell_type": "markdown",
   "metadata": {},
   "source": [
    "## Analysis"
   ]
  },
  {
   "attachments": {},
   "cell_type": "markdown",
   "metadata": {},
   "source": [
    "### Overview"
   ]
  },
  {
   "cell_type": "code",
   "execution_count": 118,
   "metadata": {},
   "outputs": [
    {
     "name": "stdout",
     "output_type": "stream",
     "text": [
      "['pcfa1', 'pcfa1_varimax', 'pcfa2', 'pcfa2_varimax', 'pcfa3', 'pcfa3_varimax']\n",
      "['mlfa1', 'mlfa1_varimax', 'mlfa1_oblimin', 'mlfa2', 'mlfa2_varimax', 'mlfa2_oblimin', 'mlfa3', 'mlfa3_varimax', 'mlfa3_oblimin']\n"
     ]
    }
   ],
   "source": [
    "print(pc_label)\n",
    "print(ml_label)"
   ]
  },
  {
   "cell_type": "code",
   "execution_count": 119,
   "metadata": {},
   "outputs": [
    {
     "data": {
      "text/html": [
       "<div>\n",
       "<style scoped>\n",
       "    .dataframe tbody tr th:only-of-type {\n",
       "        vertical-align: middle;\n",
       "    }\n",
       "\n",
       "    .dataframe tbody tr th {\n",
       "        vertical-align: top;\n",
       "    }\n",
       "\n",
       "    .dataframe thead th {\n",
       "        text-align: right;\n",
       "    }\n",
       "</style>\n",
       "<table border=\"1\" class=\"dataframe\">\n",
       "  <thead>\n",
       "    <tr style=\"text-align: right;\">\n",
       "      <th></th>\n",
       "      <th>0</th>\n",
       "      <th>1</th>\n",
       "    </tr>\n",
       "  </thead>\n",
       "  <tbody>\n",
       "    <tr>\n",
       "      <th>0</th>\n",
       "      <td>-0.943011</td>\n",
       "      <td>0.208695</td>\n",
       "    </tr>\n",
       "    <tr>\n",
       "      <th>1</th>\n",
       "      <td>3.573965</td>\n",
       "      <td>0.901020</td>\n",
       "    </tr>\n",
       "    <tr>\n",
       "      <th>2</th>\n",
       "      <td>-0.079943</td>\n",
       "      <td>0.255419</td>\n",
       "    </tr>\n",
       "    <tr>\n",
       "      <th>3</th>\n",
       "      <td>-0.648182</td>\n",
       "      <td>0.127471</td>\n",
       "    </tr>\n",
       "    <tr>\n",
       "      <th>4</th>\n",
       "      <td>-0.434582</td>\n",
       "      <td>-0.840839</td>\n",
       "    </tr>\n",
       "    <tr>\n",
       "      <th>...</th>\n",
       "      <td>...</td>\n",
       "      <td>...</td>\n",
       "    </tr>\n",
       "    <tr>\n",
       "      <th>25389</th>\n",
       "      <td>-0.585841</td>\n",
       "      <td>-0.382892</td>\n",
       "    </tr>\n",
       "    <tr>\n",
       "      <th>25390</th>\n",
       "      <td>-0.693681</td>\n",
       "      <td>-1.159858</td>\n",
       "    </tr>\n",
       "    <tr>\n",
       "      <th>25391</th>\n",
       "      <td>2.020751</td>\n",
       "      <td>-0.915735</td>\n",
       "    </tr>\n",
       "    <tr>\n",
       "      <th>25392</th>\n",
       "      <td>0.899448</td>\n",
       "      <td>0.110161</td>\n",
       "    </tr>\n",
       "    <tr>\n",
       "      <th>25393</th>\n",
       "      <td>-0.446960</td>\n",
       "      <td>-1.777449</td>\n",
       "    </tr>\n",
       "  </tbody>\n",
       "</table>\n",
       "<p>25394 rows × 2 columns</p>\n",
       "</div>"
      ],
      "text/plain": [
       "              0         1\n",
       "0     -0.943011  0.208695\n",
       "1      3.573965  0.901020\n",
       "2     -0.079943  0.255419\n",
       "3     -0.648182  0.127471\n",
       "4     -0.434582 -0.840839\n",
       "...         ...       ...\n",
       "25389 -0.585841 -0.382892\n",
       "25390 -0.693681 -1.159858\n",
       "25391  2.020751 -0.915735\n",
       "25392  0.899448  0.110161\n",
       "25393 -0.446960 -1.777449\n",
       "\n",
       "[25394 rows x 2 columns]"
      ]
     },
     "execution_count": 119,
     "metadata": {},
     "output_type": "execute_result"
    }
   ],
   "source": [
    "pc_score[3]"
   ]
  },
  {
   "cell_type": "code",
   "execution_count": 120,
   "metadata": {},
   "outputs": [
    {
     "data": {
      "text/html": [
       "<div>\n",
       "<style scoped>\n",
       "    .dataframe tbody tr th:only-of-type {\n",
       "        vertical-align: middle;\n",
       "    }\n",
       "\n",
       "    .dataframe tbody tr th {\n",
       "        vertical-align: top;\n",
       "    }\n",
       "\n",
       "    .dataframe thead th {\n",
       "        text-align: right;\n",
       "    }\n",
       "</style>\n",
       "<table border=\"1\" class=\"dataframe\">\n",
       "  <thead>\n",
       "    <tr style=\"text-align: right;\">\n",
       "      <th></th>\n",
       "      <th>Factor1</th>\n",
       "      <th>Factor2</th>\n",
       "      <th>Communalities</th>\n",
       "      <th>Uniquenesses</th>\n",
       "    </tr>\n",
       "  </thead>\n",
       "  <tbody>\n",
       "    <tr>\n",
       "      <th>H2a</th>\n",
       "      <td>0.855200</td>\n",
       "      <td>0.228555</td>\n",
       "      <td>0.783605</td>\n",
       "      <td>0.216395</td>\n",
       "    </tr>\n",
       "    <tr>\n",
       "      <th>H2b</th>\n",
       "      <td>0.838628</td>\n",
       "      <td>0.369868</td>\n",
       "      <td>0.840099</td>\n",
       "      <td>0.159901</td>\n",
       "    </tr>\n",
       "    <tr>\n",
       "      <th>H2c</th>\n",
       "      <td>0.729628</td>\n",
       "      <td>0.519625</td>\n",
       "      <td>0.802367</td>\n",
       "      <td>0.197633</td>\n",
       "    </tr>\n",
       "    <tr>\n",
       "      <th>H2d</th>\n",
       "      <td>0.230227</td>\n",
       "      <td>0.942431</td>\n",
       "      <td>0.941181</td>\n",
       "      <td>0.058819</td>\n",
       "    </tr>\n",
       "    <tr>\n",
       "      <th>H2e</th>\n",
       "      <td>0.855371</td>\n",
       "      <td>0.312740</td>\n",
       "      <td>0.829466</td>\n",
       "      <td>0.170534</td>\n",
       "    </tr>\n",
       "    <tr>\n",
       "      <th>H2f</th>\n",
       "      <td>0.835082</td>\n",
       "      <td>0.377862</td>\n",
       "      <td>0.840142</td>\n",
       "      <td>0.159858</td>\n",
       "    </tr>\n",
       "    <tr>\n",
       "      <th>H2g</th>\n",
       "      <td>0.833563</td>\n",
       "      <td>0.135576</td>\n",
       "      <td>0.713209</td>\n",
       "      <td>0.286791</td>\n",
       "    </tr>\n",
       "    <tr>\n",
       "      <th>H2h</th>\n",
       "      <td>0.805206</td>\n",
       "      <td>0.404414</td>\n",
       "      <td>0.811908</td>\n",
       "      <td>0.188092</td>\n",
       "    </tr>\n",
       "    <tr>\n",
       "      <th>H2i</th>\n",
       "      <td>0.857963</td>\n",
       "      <td>0.240998</td>\n",
       "      <td>0.794180</td>\n",
       "      <td>0.205820</td>\n",
       "    </tr>\n",
       "    <tr>\n",
       "      <th>H2j</th>\n",
       "      <td>0.737994</td>\n",
       "      <td>0.449890</td>\n",
       "      <td>0.747036</td>\n",
       "      <td>0.252964</td>\n",
       "    </tr>\n",
       "  </tbody>\n",
       "</table>\n",
       "</div>"
      ],
      "text/plain": [
       "      Factor1   Factor2  Communalities  Uniquenesses\n",
       "H2a  0.855200  0.228555       0.783605      0.216395\n",
       "H2b  0.838628  0.369868       0.840099      0.159901\n",
       "H2c  0.729628  0.519625       0.802367      0.197633\n",
       "H2d  0.230227  0.942431       0.941181      0.058819\n",
       "H2e  0.855371  0.312740       0.829466      0.170534\n",
       "H2f  0.835082  0.377862       0.840142      0.159858\n",
       "H2g  0.833563  0.135576       0.713209      0.286791\n",
       "H2h  0.805206  0.404414       0.811908      0.188092\n",
       "H2i  0.857963  0.240998       0.794180      0.205820\n",
       "H2j  0.737994  0.449890       0.747036      0.252964"
      ]
     },
     "execution_count": 120,
     "metadata": {},
     "output_type": "execute_result"
    }
   ],
   "source": [
    "pc_result[3]"
   ]
  },
  {
   "attachments": {},
   "cell_type": "markdown",
   "metadata": {},
   "source": [
    "### Factor loadings"
   ]
  },
  {
   "cell_type": "markdown",
   "metadata": {},
   "source": [
    "#### PCFA"
   ]
  },
  {
   "cell_type": "code",
   "execution_count": 121,
   "metadata": {},
   "outputs": [],
   "source": [
    "pc_loadings = None\n",
    "for i in range(len(pc_result)):\n",
    "    label = pc_label[i]\n",
    "    if \"1\" in label:\n",
    "        sub = pc_result[i][\"Factor1\"]\n",
    "    elif \"2\" in label:\n",
    "        sub = pc_result[i][[\"Factor1\", \"Factor2\"]]\n",
    "    elif \"3\" in label:\n",
    "        sub = pc_result[i][[\"Factor1\", \"Factor2\", \"Factor3\"]]\n",
    "    if pc_loadings is not None:\n",
    "        pc_loadings = pd.concat([pc_loadings, sub], axis=1)\n",
    "    else:\n",
    "        pc_loadings = sub"
   ]
  },
  {
   "attachments": {},
   "cell_type": "markdown",
   "metadata": {},
   "source": [
    "#### MLFA"
   ]
  },
  {
   "cell_type": "code",
   "execution_count": 122,
   "metadata": {},
   "outputs": [],
   "source": [
    "ml_loadings = None\n",
    "for i in range(len(ml_result)):\n",
    "    label = ml_label[i]\n",
    "    if \"1\" in label:\n",
    "        sub = ml_result[i][\"Factor1\"]\n",
    "    elif \"2\" in label:\n",
    "        sub = ml_result[i][[\"Factor1\", \"Factor2\"]]\n",
    "    elif \"3\" in label:\n",
    "        sub = ml_result[i][[\"Factor1\", \"Factor2\", \"Factor3\"]]\n",
    "    if ml_loadings is not None:\n",
    "        ml_loadings = pd.concat([ml_loadings, sub], axis=1)\n",
    "    else:\n",
    "        ml_loadings = sub"
   ]
  },
  {
   "cell_type": "code",
   "execution_count": 123,
   "metadata": {},
   "outputs": [],
   "source": [
    "if not os.path.exists(\"../table/\"):\n",
    "    os.mkdir(\"./table/\")\n",
    "\n",
    "writer = pd.ExcelWriter('../table/fa_loadings.xlsx', engine='xlsxwriter')\n",
    "np.round(pc_loadings, 4).to_excel(writer, sheet_name='pcfa')\n",
    "np.round(ml_loadings, 4).to_excel(writer, sheet_name='mlfa')\n",
    "\n",
    "writer.close()"
   ]
  },
  {
   "attachments": {},
   "cell_type": "markdown",
   "metadata": {},
   "source": [
    "### Communalities summary"
   ]
  },
  {
   "attachments": {},
   "cell_type": "markdown",
   "metadata": {},
   "source": [
    "#### PCFA"
   ]
  },
  {
   "cell_type": "code",
   "execution_count": 124,
   "metadata": {},
   "outputs": [],
   "source": [
    "communalities_pc = None\n",
    "for i in range(len(pc_result)):\n",
    "    com = pc_result[i].rename(columns={\"Communalities\": f\"{pc_label[i]}\"})[f\"{pc_label[i]}\"]\n",
    "    if communalities_pc is None:\n",
    "        communalities_pc = com\n",
    "    else:\n",
    "        communalities_pc = pd.concat([communalities_pc, com], axis=1)"
   ]
  },
  {
   "cell_type": "code",
   "execution_count": 125,
   "metadata": {},
   "outputs": [
    {
     "data": {
      "text/html": [
       "<div>\n",
       "<style scoped>\n",
       "    .dataframe tbody tr th:only-of-type {\n",
       "        vertical-align: middle;\n",
       "    }\n",
       "\n",
       "    .dataframe tbody tr th {\n",
       "        vertical-align: top;\n",
       "    }\n",
       "\n",
       "    .dataframe thead th {\n",
       "        text-align: right;\n",
       "    }\n",
       "</style>\n",
       "<table border=\"1\" class=\"dataframe\">\n",
       "  <thead>\n",
       "    <tr style=\"text-align: right;\">\n",
       "      <th></th>\n",
       "      <th>pcfa1</th>\n",
       "      <th>pcfa1_varimax</th>\n",
       "      <th>pcfa2</th>\n",
       "      <th>pcfa2_varimax</th>\n",
       "      <th>pcfa3</th>\n",
       "      <th>pcfa3_varimax</th>\n",
       "    </tr>\n",
       "  </thead>\n",
       "  <tbody>\n",
       "    <tr>\n",
       "      <th>H2a</th>\n",
       "      <td>0.752816</td>\n",
       "      <td>0.752816</td>\n",
       "      <td>0.783605</td>\n",
       "      <td>0.783605</td>\n",
       "      <td>0.801957</td>\n",
       "      <td>0.801957</td>\n",
       "    </tr>\n",
       "    <tr>\n",
       "      <th>H2b</th>\n",
       "      <td>0.838375</td>\n",
       "      <td>0.838375</td>\n",
       "      <td>0.840099</td>\n",
       "      <td>0.840099</td>\n",
       "      <td>0.841937</td>\n",
       "      <td>0.841937</td>\n",
       "    </tr>\n",
       "    <tr>\n",
       "      <th>H2c</th>\n",
       "      <td>0.782463</td>\n",
       "      <td>0.782463</td>\n",
       "      <td>0.802367</td>\n",
       "      <td>0.802367</td>\n",
       "      <td>0.805000</td>\n",
       "      <td>0.805000</td>\n",
       "    </tr>\n",
       "    <tr>\n",
       "      <th>H2d</th>\n",
       "      <td>0.390875</td>\n",
       "      <td>0.390875</td>\n",
       "      <td>0.941181</td>\n",
       "      <td>0.941181</td>\n",
       "      <td>0.975693</td>\n",
       "      <td>0.975693</td>\n",
       "    </tr>\n",
       "    <tr>\n",
       "      <th>H2e</th>\n",
       "      <td>0.819439</td>\n",
       "      <td>0.819439</td>\n",
       "      <td>0.829466</td>\n",
       "      <td>0.829466</td>\n",
       "      <td>0.851546</td>\n",
       "      <td>0.851546</td>\n",
       "    </tr>\n",
       "    <tr>\n",
       "      <th>H2f</th>\n",
       "      <td>0.839067</td>\n",
       "      <td>0.839067</td>\n",
       "      <td>0.840142</td>\n",
       "      <td>0.840142</td>\n",
       "      <td>0.886647</td>\n",
       "      <td>0.886647</td>\n",
       "    </tr>\n",
       "    <tr>\n",
       "      <th>H2g</th>\n",
       "      <td>0.651141</td>\n",
       "      <td>0.651141</td>\n",
       "      <td>0.713209</td>\n",
       "      <td>0.713209</td>\n",
       "      <td>0.880630</td>\n",
       "      <td>0.880630</td>\n",
       "    </tr>\n",
       "    <tr>\n",
       "      <th>H2h</th>\n",
       "      <td>0.811890</td>\n",
       "      <td>0.811890</td>\n",
       "      <td>0.811908</td>\n",
       "      <td>0.811908</td>\n",
       "      <td>0.841416</td>\n",
       "      <td>0.841416</td>\n",
       "    </tr>\n",
       "    <tr>\n",
       "      <th>H2i</th>\n",
       "      <td>0.766773</td>\n",
       "      <td>0.766773</td>\n",
       "      <td>0.794180</td>\n",
       "      <td>0.794180</td>\n",
       "      <td>0.804633</td>\n",
       "      <td>0.804633</td>\n",
       "    </tr>\n",
       "    <tr>\n",
       "      <th>H2j</th>\n",
       "      <td>0.741426</td>\n",
       "      <td>0.741426</td>\n",
       "      <td>0.747036</td>\n",
       "      <td>0.747036</td>\n",
       "      <td>0.832142</td>\n",
       "      <td>0.832142</td>\n",
       "    </tr>\n",
       "  </tbody>\n",
       "</table>\n",
       "</div>"
      ],
      "text/plain": [
       "        pcfa1  pcfa1_varimax     pcfa2  pcfa2_varimax     pcfa3  pcfa3_varimax\n",
       "H2a  0.752816       0.752816  0.783605       0.783605  0.801957       0.801957\n",
       "H2b  0.838375       0.838375  0.840099       0.840099  0.841937       0.841937\n",
       "H2c  0.782463       0.782463  0.802367       0.802367  0.805000       0.805000\n",
       "H2d  0.390875       0.390875  0.941181       0.941181  0.975693       0.975693\n",
       "H2e  0.819439       0.819439  0.829466       0.829466  0.851546       0.851546\n",
       "H2f  0.839067       0.839067  0.840142       0.840142  0.886647       0.886647\n",
       "H2g  0.651141       0.651141  0.713209       0.713209  0.880630       0.880630\n",
       "H2h  0.811890       0.811890  0.811908       0.811908  0.841416       0.841416\n",
       "H2i  0.766773       0.766773  0.794180       0.794180  0.804633       0.804633\n",
       "H2j  0.741426       0.741426  0.747036       0.747036  0.832142       0.832142"
      ]
     },
     "execution_count": 125,
     "metadata": {},
     "output_type": "execute_result"
    }
   ],
   "source": [
    "communalities_pc"
   ]
  },
  {
   "attachments": {},
   "cell_type": "markdown",
   "metadata": {},
   "source": [
    "#### MLFA"
   ]
  },
  {
   "cell_type": "code",
   "execution_count": 126,
   "metadata": {},
   "outputs": [],
   "source": [
    "communalities_ml = None\n",
    "for i in range(len(ml_result)):\n",
    "    com = ml_result[i].rename(columns={\"Communalities\": f\"{ml_label[i]}\"})[f\"{ml_label[i]}\"]\n",
    "    if communalities_ml is None:\n",
    "        communalities_ml = com\n",
    "    else:\n",
    "        communalities_ml = pd.concat([communalities_ml, com], axis=1)"
   ]
  },
  {
   "cell_type": "code",
   "execution_count": 127,
   "metadata": {},
   "outputs": [
    {
     "data": {
      "text/html": [
       "<div>\n",
       "<style scoped>\n",
       "    .dataframe tbody tr th:only-of-type {\n",
       "        vertical-align: middle;\n",
       "    }\n",
       "\n",
       "    .dataframe tbody tr th {\n",
       "        vertical-align: top;\n",
       "    }\n",
       "\n",
       "    .dataframe thead th {\n",
       "        text-align: right;\n",
       "    }\n",
       "</style>\n",
       "<table border=\"1\" class=\"dataframe\">\n",
       "  <thead>\n",
       "    <tr style=\"text-align: right;\">\n",
       "      <th></th>\n",
       "      <th>mlfa1</th>\n",
       "      <th>mlfa1_varimax</th>\n",
       "      <th>mlfa1_oblimin</th>\n",
       "      <th>mlfa2</th>\n",
       "      <th>mlfa2_varimax</th>\n",
       "      <th>mlfa2_oblimin</th>\n",
       "      <th>mlfa3</th>\n",
       "      <th>mlfa3_varimax</th>\n",
       "      <th>mlfa3_oblimin</th>\n",
       "    </tr>\n",
       "  </thead>\n",
       "  <tbody>\n",
       "    <tr>\n",
       "      <th>H2a</th>\n",
       "      <td>0.731707</td>\n",
       "      <td>0.731707</td>\n",
       "      <td>0.731707</td>\n",
       "      <td>0.773935</td>\n",
       "      <td>0.773935</td>\n",
       "      <td>0.671134</td>\n",
       "      <td>0.857619</td>\n",
       "      <td>0.857619</td>\n",
       "      <td>0.892564</td>\n",
       "    </tr>\n",
       "    <tr>\n",
       "      <th>H2b</th>\n",
       "      <td>0.824519</td>\n",
       "      <td>0.824519</td>\n",
       "      <td>0.824519</td>\n",
       "      <td>0.972690</td>\n",
       "      <td>0.972690</td>\n",
       "      <td>0.801941</td>\n",
       "      <td>0.912771</td>\n",
       "      <td>0.912771</td>\n",
       "      <td>0.820693</td>\n",
       "    </tr>\n",
       "    <tr>\n",
       "      <th>H2c</th>\n",
       "      <td>0.749585</td>\n",
       "      <td>0.749585</td>\n",
       "      <td>0.749585</td>\n",
       "      <td>0.769241</td>\n",
       "      <td>0.769241</td>\n",
       "      <td>0.679737</td>\n",
       "      <td>0.849637</td>\n",
       "      <td>0.849637</td>\n",
       "      <td>0.555836</td>\n",
       "    </tr>\n",
       "    <tr>\n",
       "      <th>H2d</th>\n",
       "      <td>0.335936</td>\n",
       "      <td>0.335936</td>\n",
       "      <td>0.335936</td>\n",
       "      <td>0.327002</td>\n",
       "      <td>0.327002</td>\n",
       "      <td>0.323960</td>\n",
       "      <td>0.456392</td>\n",
       "      <td>0.456392</td>\n",
       "      <td>0.275765</td>\n",
       "    </tr>\n",
       "    <tr>\n",
       "      <th>H2e</th>\n",
       "      <td>0.812833</td>\n",
       "      <td>0.812833</td>\n",
       "      <td>0.812833</td>\n",
       "      <td>0.863658</td>\n",
       "      <td>0.863658</td>\n",
       "      <td>0.946109</td>\n",
       "      <td>0.888362</td>\n",
       "      <td>0.888362</td>\n",
       "      <td>1.022184</td>\n",
       "    </tr>\n",
       "    <tr>\n",
       "      <th>H2f</th>\n",
       "      <td>0.838204</td>\n",
       "      <td>0.838204</td>\n",
       "      <td>0.838204</td>\n",
       "      <td>0.877725</td>\n",
       "      <td>0.877725</td>\n",
       "      <td>0.941919</td>\n",
       "      <td>0.884413</td>\n",
       "      <td>0.884413</td>\n",
       "      <td>0.888306</td>\n",
       "    </tr>\n",
       "    <tr>\n",
       "      <th>H2g</th>\n",
       "      <td>0.602348</td>\n",
       "      <td>0.602348</td>\n",
       "      <td>0.602348</td>\n",
       "      <td>0.592360</td>\n",
       "      <td>0.592360</td>\n",
       "      <td>0.599689</td>\n",
       "      <td>0.614235</td>\n",
       "      <td>0.614235</td>\n",
       "      <td>0.369363</td>\n",
       "    </tr>\n",
       "    <tr>\n",
       "      <th>H2h</th>\n",
       "      <td>0.795923</td>\n",
       "      <td>0.795923</td>\n",
       "      <td>0.795923</td>\n",
       "      <td>0.784901</td>\n",
       "      <td>0.784901</td>\n",
       "      <td>0.781569</td>\n",
       "      <td>0.796278</td>\n",
       "      <td>0.796278</td>\n",
       "      <td>0.433058</td>\n",
       "    </tr>\n",
       "    <tr>\n",
       "      <th>H2i</th>\n",
       "      <td>0.731250</td>\n",
       "      <td>0.731250</td>\n",
       "      <td>0.731250</td>\n",
       "      <td>0.727644</td>\n",
       "      <td>0.727644</td>\n",
       "      <td>0.758203</td>\n",
       "      <td>0.725614</td>\n",
       "      <td>0.725614</td>\n",
       "      <td>0.476939</td>\n",
       "    </tr>\n",
       "    <tr>\n",
       "      <th>H2j</th>\n",
       "      <td>0.709551</td>\n",
       "      <td>0.709551</td>\n",
       "      <td>0.709551</td>\n",
       "      <td>0.723337</td>\n",
       "      <td>0.723337</td>\n",
       "      <td>0.777073</td>\n",
       "      <td>0.740798</td>\n",
       "      <td>0.740798</td>\n",
       "      <td>0.660727</td>\n",
       "    </tr>\n",
       "  </tbody>\n",
       "</table>\n",
       "</div>"
      ],
      "text/plain": [
       "        mlfa1  mlfa1_varimax  mlfa1_oblimin     mlfa2  mlfa2_varimax  \\\n",
       "H2a  0.731707       0.731707       0.731707  0.773935       0.773935   \n",
       "H2b  0.824519       0.824519       0.824519  0.972690       0.972690   \n",
       "H2c  0.749585       0.749585       0.749585  0.769241       0.769241   \n",
       "H2d  0.335936       0.335936       0.335936  0.327002       0.327002   \n",
       "H2e  0.812833       0.812833       0.812833  0.863658       0.863658   \n",
       "H2f  0.838204       0.838204       0.838204  0.877725       0.877725   \n",
       "H2g  0.602348       0.602348       0.602348  0.592360       0.592360   \n",
       "H2h  0.795923       0.795923       0.795923  0.784901       0.784901   \n",
       "H2i  0.731250       0.731250       0.731250  0.727644       0.727644   \n",
       "H2j  0.709551       0.709551       0.709551  0.723337       0.723337   \n",
       "\n",
       "     mlfa2_oblimin     mlfa3  mlfa3_varimax  mlfa3_oblimin  \n",
       "H2a       0.671134  0.857619       0.857619       0.892564  \n",
       "H2b       0.801941  0.912771       0.912771       0.820693  \n",
       "H2c       0.679737  0.849637       0.849637       0.555836  \n",
       "H2d       0.323960  0.456392       0.456392       0.275765  \n",
       "H2e       0.946109  0.888362       0.888362       1.022184  \n",
       "H2f       0.941919  0.884413       0.884413       0.888306  \n",
       "H2g       0.599689  0.614235       0.614235       0.369363  \n",
       "H2h       0.781569  0.796278       0.796278       0.433058  \n",
       "H2i       0.758203  0.725614       0.725614       0.476939  \n",
       "H2j       0.777073  0.740798       0.740798       0.660727  "
      ]
     },
     "execution_count": 127,
     "metadata": {},
     "output_type": "execute_result"
    }
   ],
   "source": [
    "communalities_ml"
   ]
  },
  {
   "cell_type": "code",
   "execution_count": 128,
   "metadata": {},
   "outputs": [],
   "source": [
    "writer = pd.ExcelWriter('../table/fa_communalities.xlsx', engine='xlsxwriter')\n",
    "\n",
    "np.round(communalities_pc, 4).to_excel(writer, sheet_name='pcfa')\n",
    "np.round(communalities_ml, 4).to_excel(writer, sheet_name='mlfa')\n",
    "\n",
    "writer.close()"
   ]
  },
  {
   "cell_type": "code",
   "execution_count": 129,
   "metadata": {},
   "outputs": [],
   "source": [
    "if not os.path.exists(\"../table/\"):\n",
    "    os.mkdir(\"./table/\")\n",
    "\n",
    "writer = pd.ExcelWriter('../table/fa_communalities_reduced.xlsx', engine='xlsxwriter')\n",
    "\n",
    "np.round(communalities_pc, 4)[[\"pcfa1\", \"pcfa2\", \"pcfa3\"]].to_excel(writer, sheet_name='pcfa')\n",
    "np.round(communalities_ml, 4)[[\"mlfa1\", \"mlfa2\", \"mlfa3\", \"mlfa1_oblimin\", \"mlfa2_oblimin\", \"mlfa3_oblimin\"]].to_excel(writer, sheet_name='mlfa')\n",
    "\n",
    "writer.close()"
   ]
  },
  {
   "attachments": {},
   "cell_type": "markdown",
   "metadata": {},
   "source": [
    "### PCFA: 2 factors"
   ]
  },
  {
   "cell_type": "code",
   "execution_count": 130,
   "metadata": {},
   "outputs": [
    {
     "data": {
      "image/png": "[encoded data removed]",
      "text/plain": [
       "<Figure size 864x432 with 2 Axes>"
      ]
     },
     "metadata": {
      "needs_background": "light"
     },
     "output_type": "display_data"
    }
   ],
   "source": [
    "fig, (ax1, ax2) = plt.subplots(\n",
    "    ncols=2, figsize=(12, 6)\n",
    ")\n",
    "loadings_plot(pc_result[2][[\"Factor1\", \"Factor2\"]], f\"{pc_label[2]} Loadings Plot\", ax=ax1)\n",
    "loadings_plot(pc_result[3][[\"Factor1\", \"Factor2\"]], f\"{pc_label[3]} Loadings Plot\", ax=ax2)\n",
    "fig.savefig(\"../fig/fa_pcfa2_loadings.png\")"
   ]
  },
  {
   "attachments": {},
   "cell_type": "markdown",
   "metadata": {},
   "source": [
    "### PCFA: 3 factors"
   ]
  },
  {
   "attachments": {},
   "cell_type": "markdown",
   "metadata": {},
   "source": [
    "#### PCFA3"
   ]
  },
  {
   "cell_type": "code",
   "execution_count": 131,
   "metadata": {},
   "outputs": [
    {
     "data": {
      "image/png": "[encoded data removed]",
      "text/plain": [
       "<Figure size 1296x432 with 3 Axes>"
      ]
     },
     "metadata": {
      "needs_background": "light"
     },
     "output_type": "display_data"
    }
   ],
   "source": [
    "fig, (ax1, ax2, ax3) = plt.subplots(\n",
    "    ncols=3, figsize=(18, 6)\n",
    ")\n",
    "loadings_plot(pc_result[4][[\"Factor1\", \"Factor2\"]], f\"{pc_label[4]} Loadings Plot\", ax=ax1)\n",
    "loadings_plot(pc_result[4][[\"Factor1\", \"Factor3\"]], f\"{pc_label[4]} Loadings Plot\", ylabel=\"Factor3\", ax=ax2)\n",
    "loadings_plot(pc_result[4][[\"Factor2\", \"Factor3\"]], f\"{pc_label[4]} Loadings Plot\", xlabel=\"Factor2\", ylabel=\"Factor3\", ax=ax3)\n",
    "fig.savefig(\"../fig/fa_pcfa3_loadings.png\")"
   ]
  },
  {
   "attachments": {},
   "cell_type": "markdown",
   "metadata": {},
   "source": [
    "#### PCFA3_varimax"
   ]
  },
  {
   "cell_type": "code",
   "execution_count": 132,
   "metadata": {},
   "outputs": [
    {
     "data": {
      "image/png": "[encoded data removed]",
      "text/plain": [
       "<Figure size 1296x432 with 3 Axes>"
      ]
     },
     "metadata": {
      "needs_background": "light"
     },
     "output_type": "display_data"
    }
   ],
   "source": [
    "fig, (ax1, ax2, ax3) = plt.subplots(\n",
    "    ncols=3, figsize=(18, 6)\n",
    ")\n",
    "loadings_plot(pc_result[5][[\"Factor1\", \"Factor2\"]], f\"{pc_label[5]} Loadings Plot\", ax=ax1)\n",
    "loadings_plot(pc_result[5][[\"Factor1\", \"Factor3\"]], f\"{pc_label[5]} Loadings Plot\", ylabel=\"Factor3\", ax=ax2)\n",
    "loadings_plot(pc_result[5][[\"Factor2\", \"Factor3\"]], f\"{pc_label[5]} Loadings Plot\", xlabel=\"Factor2\", ylabel=\"Factor3\", ax=ax3)\n",
    "fig.savefig(\"../fig/fa_pcfa3_varimax_loadings.png\")"
   ]
  },
  {
   "attachments": {},
   "cell_type": "markdown",
   "metadata": {},
   "source": [
    "### MLFA: 2 factors"
   ]
  },
  {
   "cell_type": "code",
   "execution_count": 133,
   "metadata": {},
   "outputs": [
    {
     "data": {
      "image/png": "[encoded data removed]",
      "text/plain": [
       "<Figure size 1296x432 with 3 Axes>"
      ]
     },
     "metadata": {
      "needs_background": "light"
     },
     "output_type": "display_data"
    }
   ],
   "source": [
    "fig, (ax1, ax2, ax3) = plt.subplots(\n",
    "    ncols=3, figsize=(18, 6)\n",
    ")\n",
    "loadings_plot(ml_result[3][[\"Factor1\", \"Factor2\"]], f\"{ml_label[3]} Loadings Plot\", ax=ax1)\n",
    "loadings_plot(ml_result[4][[\"Factor1\", \"Factor2\"]], f\"{ml_label[4]} Loadings Plot\", ax=ax2)\n",
    "loadings_plot(ml_result[5][[\"Factor1\", \"Factor2\"]], f\"{ml_label[5]} Loadings Plot\", ax=ax3)\n",
    "fig.savefig(\"../fig/fa_mlfa2_loadings.png\")"
   ]
  },
  {
   "attachments": {},
   "cell_type": "markdown",
   "metadata": {},
   "source": [
    "### MLFA: 3 factors"
   ]
  },
  {
   "attachments": {},
   "cell_type": "markdown",
   "metadata": {},
   "source": [
    "#### MLFA3"
   ]
  },
  {
   "cell_type": "code",
   "execution_count": 134,
   "metadata": {},
   "outputs": [
    {
     "data": {
      "image/png": "[encoded data removed]",
      "text/plain": [
       "<Figure size 1296x432 with 3 Axes>"
      ]
     },
     "metadata": {
      "needs_background": "light"
     },
     "output_type": "display_data"
    }
   ],
   "source": [
    "fig, (ax1, ax2, ax3) = plt.subplots(\n",
    "    ncols=3, figsize=(18, 6)\n",
    ")\n",
    "loadings_plot(ml_result[6][[\"Factor1\", \"Factor2\"]], f\"{ml_label[6]} Loadings Plot\", ax=ax1)\n",
    "loadings_plot(ml_result[6][[\"Factor1\", \"Factor3\"]], f\"{ml_label[6]} Loadings Plot\", ylabel=\"Factor3\", ax=ax2)\n",
    "loadings_plot(ml_result[6][[\"Factor2\", \"Factor3\"]], f\"{ml_label[6]} Loadings Plot\", xlabel=\"Factor2\", ylabel=\"Factor3\", ax=ax3)\n",
    "fig.savefig(\"../fig/fa_mlfa3_loadings.png\")"
   ]
  },
  {
   "attachments": {},
   "cell_type": "markdown",
   "metadata": {},
   "source": [
    "#### MLFA3_varimax"
   ]
  },
  {
   "cell_type": "code",
   "execution_count": 135,
   "metadata": {},
   "outputs": [
    {
     "data": {
      "image/png": "[encoded data removed]",
      "text/plain": [
       "<Figure size 1296x432 with 3 Axes>"
      ]
     },
     "metadata": {
      "needs_background": "light"
     },
     "output_type": "display_data"
    }
   ],
   "source": [
    "fig, (ax1, ax2, ax3) = plt.subplots(\n",
    "    ncols=3, figsize=(18, 6)\n",
    ")\n",
    "loadings_plot(ml_result[7][[\"Factor1\", \"Factor2\"]], f\"{ml_label[7]} Loadings Plot\", ax=ax1)\n",
    "loadings_plot(ml_result[7][[\"Factor1\", \"Factor3\"]], f\"{ml_label[7]} Loadings Plot\", ylabel=\"Factor3\", ax=ax2)\n",
    "loadings_plot(ml_result[7][[\"Factor2\", \"Factor3\"]], f\"{ml_label[7]} Loadings Plot\", xlabel=\"Factor2\", ylabel=\"Factor3\", ax=ax3)\n",
    "fig.savefig(\"../fig/fa_mlfa3_varimax_loadings.png\")"
   ]
  },
  {
   "attachments": {},
   "cell_type": "markdown",
   "metadata": {},
   "source": [
    "#### MLFA3_oblimin"
   ]
  },
  {
   "cell_type": "code",
   "execution_count": 136,
   "metadata": {},
   "outputs": [
    {
     "data": {
      "image/png": "[encoded data removed]",
      "text/plain": [
       "<Figure size 1296x432 with 3 Axes>"
      ]
     },
     "metadata": {
      "needs_background": "light"
     },
     "output_type": "display_data"
    }
   ],
   "source": [
    "fig, (ax1, ax2, ax3) = plt.subplots(\n",
    "    ncols=3, figsize=(18, 6)\n",
    ")\n",
    "loadings_plot(ml_result[8][[\"Factor1\", \"Factor2\"]], f\"{ml_label[8]} Loadings Plot\", ax=ax1)\n",
    "loadings_plot(ml_result[8][[\"Factor1\", \"Factor3\"]], f\"{ml_label[8]} Loadings Plot\", ylabel=\"Factor3\", ax=ax2)\n",
    "loadings_plot(ml_result[8][[\"Factor2\", \"Factor3\"]], f\"{ml_label[8]} Loadings Plot\", xlabel=\"Factor2\", ylabel=\"Factor3\", ax=ax3)\n",
    "fig.savefig(\"../fig/fa_mlfa3_oblimin_loadings.png\")"
   ]
  }
 ],
 "metadata": {
  "kernelspec": {
   "display_name": "base",
   "language": "python",
   "name": "python3"
  },
  "language_info": {
   "codemirror_mode": {
    "name": "ipython",
    "version": 3
   },
   "file_extension": ".py",
   "mimetype": "text/x-python",
   "name": "python",
   "nbconvert_exporter": "python",
   "pygments_lexer": "ipython3",
   "version": "3.9.12"
  },
  "orig_nbformat": 4,
  "vscode": {
   "interpreter": {
    "hash": "800b2c1448e2ea079d66e8039536a26ab9dab7a446f882031feb022006dbbbf7"
   }
  }
 },
 "nbformat": 4,
 "nbformat_minor": 2
}
