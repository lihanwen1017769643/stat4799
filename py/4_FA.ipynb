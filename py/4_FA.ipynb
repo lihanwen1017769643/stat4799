{
 "cells": [
  {
   "cell_type": "markdown",
   "metadata": {},
   "source": [
    "# Factor Analysis"
   ]
  },
  {
   "cell_type": "markdown",
   "metadata": {},
   "source": [
    "## Preprocess"
   ]
  },
  {
   "cell_type": "code",
   "execution_count": 27,
   "metadata": {},
   "outputs": [],
   "source": [
    "# load packages\n",
    "import pandas as pd\n",
    "import numpy as np\n",
    "import matplotlib as mpl\n",
    "import matplotlib.pyplot as plt\n",
    "import seaborn as sns\n",
    "from factor_analyzer import factor_analyzer, Rotator\n",
    "from factor_analyzer import FactorAnalyzer, calculate_kmo, calculate_bartlett_sphericity\n",
    "import warnings\n",
    "\n",
    "warnings.filterwarnings(\"ignore\")"
   ]
  },
  {
   "cell_type": "code",
   "execution_count": 2,
   "metadata": {},
   "outputs": [],
   "source": [
    "# read file\n",
    "adl_path = \"../data/data_adl.pkl\"\n",
    "df = pd.read_pickle(adl_path)"
   ]
  },
  {
   "cell_type": "code",
   "execution_count": 3,
   "metadata": {},
   "outputs": [
    {
     "name": "stdout",
     "output_type": "stream",
     "text": [
      "Factor Analysis Suitability Test\n",
      "KMO: 0.9428\tBartlett: 0.0000\n",
      "FA suitability test passes!\n"
     ]
    }
   ],
   "source": [
    "# bartlett and kmo test\n",
    "kmo = calculate_kmo(df)\n",
    "bartlett = calculate_bartlett_sphericity(df)\n",
    "print(\"Factor Analysis Suitability Test\")\n",
    "print(\"KMO: {:.4f}\\tBartlett: {:.4f}\".format(kmo[1], bartlett[1]))\n",
    "if kmo[1] > 0.9 and bartlett[1] < 0.05:\n",
    "    print(\"FA suitability test passes!\")"
   ]
  },
  {
   "cell_type": "markdown",
   "metadata": {},
   "source": [
    "## Function Definition"
   ]
  },
  {
   "cell_type": "code",
   "execution_count": 4,
   "metadata": {},
   "outputs": [],
   "source": [
    "def factor_analysis(df, factor=1, rot=None, m=\"principal\"):\n",
    "    fa = FactorAnalyzer(n_factors=factor, method=m, rotation=rot)\n",
    "    fa.fit(df)\n",
    "    return fa"
   ]
  },
  {
   "cell_type": "code",
   "execution_count": 5,
   "metadata": {},
   "outputs": [],
   "source": [
    "def scree_plot(df, original=True, method=\"principal\", plot=True):\n",
    "    fa = factor_analysis(df, df.shape[1], rot=None, m=method)\n",
    "    ev = np.array(fa.get_eigenvalues()).T\n",
    "    df_ev = pd.DataFrame(ev, columns=[\"Original Eigenvalues\", \"Common Factor Eigenvalues\"], index=df.columns)\n",
    "    if plot:\n",
    "        ev_dat = df_ev.iloc[:, 0].copy() if original else df_ev.iloc[:, 1].copy()\n",
    "        plt.scatter(range(1, df.shape[1]+1), ev_dat)\n",
    "        plt.plot(range(1, df.shape[1]+1), ev_dat)\n",
    "        plt.title('Scree Plot')\n",
    "        plt.xlabel('Factors')\n",
    "        plt.ylabel('Eigenvalue')\n",
    "        plt.grid()\n",
    "        plt.show()\n",
    "    return df_ev"
   ]
  },
  {
   "cell_type": "code",
   "execution_count": 19,
   "metadata": {},
   "outputs": [],
   "source": [
    "def variance_explained_plot(df, var_type=0, method=\"principal\", plot=True):\n",
    "    fa = factor_analysis(df, df.shape[1], rot=None, m=method)\n",
    "    var = np.array(fa.get_factor_variance()).T\n",
    "    df_var = pd.DataFrame(var, columns=[\"Variance\", \"Proportional Variance\", \"Cumulative Variance\"], index=df.columns)\n",
    "    var_list = [df_var[i] for i in df_var.columns]\n",
    "    if plot:\n",
    "        var_dat = var_list[var_type]\n",
    "        plt.scatter(range(1, df.shape[1]+1), var_dat)\n",
    "        plt.plot(range(1, df.shape[1]+1), var_dat)\n",
    "        plt.title(f'{var_dat.name} Plot')\n",
    "        plt.xlabel('Factors')\n",
    "        plt.ylim((0, 1))\n",
    "        plt.grid()\n",
    "        plt.show()\n",
    "    var, pvar, cvar = var_list\n",
    "    return var, pvar, cvar"
   ]
  },
  {
   "cell_type": "code",
   "execution_count": 7,
   "metadata": {},
   "outputs": [],
   "source": [
    "def fa_result(df, fa):\n",
    "    cols = [(\"Factor\" + str(i+1)) for i in range(fa.loadings_.shape[1])]\n",
    "    loadings = pd.DataFrame(fa.loadings_, columns=cols, index=df.columns)\n",
    "    communalities = pd.DataFrame(fa.get_communalities(), columns=[\"Communalities\"], index=df.columns)\n",
    "    uniquenesses = pd.DataFrame(fa.get_uniquenesses(), columns=[\"Uniquenesses\"], index=df.columns)\n",
    "    result = pd.concat([loadings, communalities, uniquenesses], axis=1)\n",
    "    score = pd.DataFrame(fa.transform(df))\n",
    "    return result, score"
   ]
  },
  {
   "cell_type": "code",
   "execution_count": 49,
   "metadata": {},
   "outputs": [],
   "source": [
    "def loadings_plot(df, title=\"\"):\n",
    "    col_num = len(df.columns)\n",
    "    if col_num == 2:\n",
    "        plt.scatter(df[df.columns[0]], df[df.columns[1]])\n",
    "        for i in range(df.shape[0]):\n",
    "            plt.text(x=df[df.columns[0]][i], y=df[df.columns[1]][i], s=df.index[i])\n",
    "        if title:\n",
    "            plt.title(title)\n",
    "        else:\n",
    "            plt.title(\"Loadings Plot\")\n",
    "        plt.xlabel(\"Factor1\")\n",
    "        plt.ylabel(\"Factor2\")\n",
    "        plt.axvline(x=0, color='blue')\n",
    "        plt.axhline(y=0, color='blue')\n",
    "        plt.show()"
   ]
  },
  {
   "cell_type": "markdown",
   "metadata": {},
   "source": [
    "## PCFA"
   ]
  },
  {
   "cell_type": "code",
   "execution_count": 20,
   "metadata": {},
   "outputs": [
    {
     "data": {
      "image/png": "[encoded data removed]",
      "text/plain": [
       "<Figure size 432x288 with 1 Axes>"
      ]
     },
     "metadata": {
      "needs_background": "light"
     },
     "output_type": "display_data"
    },
    {
     "data": {
      "image/png": "[encoded data removed]",
      "text/plain": [
       "<Figure size 432x288 with 1 Axes>"
      ]
     },
     "metadata": {
      "needs_background": "light"
     },
     "output_type": "display_data"
    }
   ],
   "source": [
    "pcfa_ev = scree_plot(df)\n",
    "pcfa_var, pcfa_pvar, pcfa_cvar = variance_explained_plot(df, var_type=2)"
   ]
  },
  {
   "cell_type": "code",
   "execution_count": 22,
   "metadata": {},
   "outputs": [],
   "source": [
    "pc_result, pc_score, pc_label = [], [], []\n",
    "lbl = \"pcfa\"\n",
    "for i in range(1, 4):\n",
    "    for rotation in [None, \"varimax\"]:\n",
    "        tmp_lbl = lbl + str(i)\n",
    "        pcfa = fa_result(df, factor_analysis(df, factor=i, rot=rotation))\n",
    "        pc_result.append(pcfa[0])\n",
    "        pc_score.append(pcfa[1])\n",
    "        if rotation:\n",
    "            tmp_lbl = tmp_lbl + \"_\" + rotation\n",
    "        pc_label.append(tmp_lbl)"
   ]
  },
  {
   "cell_type": "code",
   "execution_count": 67,
   "metadata": {},
   "outputs": [],
   "source": [
    "for i in range(len(pc_score)):\n",
    "    df = pc_score[i].to_numpy()\n",
    "    with open(f\"../npy/data_adl_{pc_label[i]}.npy\", 'wb') as f:\n",
    "        np.save(f, df)"
   ]
  },
  {
   "cell_type": "markdown",
   "metadata": {},
   "source": [
    "## MLFA"
   ]
  },
  {
   "cell_type": "code",
   "execution_count": 21,
   "metadata": {},
   "outputs": [
    {
     "data": {
      "image/png": "[encoded data removed]",
      "text/plain": [
       "<Figure size 432x288 with 1 Axes>"
      ]
     },
     "metadata": {
      "needs_background": "light"
     },
     "output_type": "display_data"
    },
    {
     "data": {
      "image/png": "[encoded data removed]",
      "text/plain": [
       "<Figure size 432x288 with 1 Axes>"
      ]
     },
     "metadata": {
      "needs_background": "light"
     },
     "output_type": "display_data"
    }
   ],
   "source": [
    "mlfa_ev = scree_plot(df, method=\"ml\")\n",
    "mlfa_var, mlfa_pvar, mlfa_cvar = variance_explained_plot(df, var_type=2, method=\"ml\")"
   ]
  },
  {
   "cell_type": "code",
   "execution_count": 23,
   "metadata": {},
   "outputs": [],
   "source": [
    "ml_result, ml_score, ml_label = [], [], []\n",
    "lbl = \"mlfa\"\n",
    "for i in range(1, 4):\n",
    "    for rotation in [None, \"varimax\", \"oblimin\"]:\n",
    "        tmp_lbl = lbl + str(i)\n",
    "        mlfa = fa_result(df, factor_analysis(df, factor=i, rot=rotation, m=\"ml\"))\n",
    "        ml_result.append(mlfa[0])\n",
    "        ml_score.append(mlfa[1])\n",
    "        if rotation:\n",
    "            tmp_lbl = tmp_lbl + \"_\" + rotation\n",
    "        ml_label.append(tmp_lbl)"
   ]
  },
  {
   "cell_type": "code",
   "execution_count": 69,
   "metadata": {},
   "outputs": [],
   "source": [
    "for i in range(len(ml_score)):\n",
    "    df = ml_score[i].to_numpy()\n",
    "    with open(f\"../npy/data_adl_{ml_label[i]}.npy\", 'wb') as f:\n",
    "        np.save(f, df)"
   ]
  },
  {
   "cell_type": "markdown",
   "metadata": {},
   "source": [
    "## Analysis"
   ]
  },
  {
   "cell_type": "code",
   "execution_count": 62,
   "metadata": {},
   "outputs": [
    {
     "data": {
      "text/html": [
       "<div>\n",
       "<style scoped>\n",
       "    .dataframe tbody tr th:only-of-type {\n",
       "        vertical-align: middle;\n",
       "    }\n",
       "\n",
       "    .dataframe tbody tr th {\n",
       "        vertical-align: top;\n",
       "    }\n",
       "\n",
       "    .dataframe thead th {\n",
       "        text-align: right;\n",
       "    }\n",
       "</style>\n",
       "<table border=\"1\" class=\"dataframe\">\n",
       "  <thead>\n",
       "    <tr style=\"text-align: right;\">\n",
       "      <th></th>\n",
       "      <th>0</th>\n",
       "      <th>1</th>\n",
       "    </tr>\n",
       "  </thead>\n",
       "  <tbody>\n",
       "    <tr>\n",
       "      <th>0</th>\n",
       "      <td>-0.943011</td>\n",
       "      <td>0.208695</td>\n",
       "    </tr>\n",
       "    <tr>\n",
       "      <th>1</th>\n",
       "      <td>3.573965</td>\n",
       "      <td>0.901020</td>\n",
       "    </tr>\n",
       "    <tr>\n",
       "      <th>2</th>\n",
       "      <td>-0.079943</td>\n",
       "      <td>0.255419</td>\n",
       "    </tr>\n",
       "    <tr>\n",
       "      <th>3</th>\n",
       "      <td>-0.648182</td>\n",
       "      <td>0.127471</td>\n",
       "    </tr>\n",
       "    <tr>\n",
       "      <th>4</th>\n",
       "      <td>-0.434582</td>\n",
       "      <td>-0.840839</td>\n",
       "    </tr>\n",
       "    <tr>\n",
       "      <th>...</th>\n",
       "      <td>...</td>\n",
       "      <td>...</td>\n",
       "    </tr>\n",
       "    <tr>\n",
       "      <th>25389</th>\n",
       "      <td>-0.585841</td>\n",
       "      <td>-0.382892</td>\n",
       "    </tr>\n",
       "    <tr>\n",
       "      <th>25390</th>\n",
       "      <td>-0.693681</td>\n",
       "      <td>-1.159858</td>\n",
       "    </tr>\n",
       "    <tr>\n",
       "      <th>25391</th>\n",
       "      <td>2.020751</td>\n",
       "      <td>-0.915735</td>\n",
       "    </tr>\n",
       "    <tr>\n",
       "      <th>25392</th>\n",
       "      <td>0.899448</td>\n",
       "      <td>0.110161</td>\n",
       "    </tr>\n",
       "    <tr>\n",
       "      <th>25393</th>\n",
       "      <td>-0.446960</td>\n",
       "      <td>-1.777449</td>\n",
       "    </tr>\n",
       "  </tbody>\n",
       "</table>\n",
       "<p>25394 rows × 2 columns</p>\n",
       "</div>"
      ],
      "text/plain": [
       "              0         1\n",
       "0     -0.943011  0.208695\n",
       "1      3.573965  0.901020\n",
       "2     -0.079943  0.255419\n",
       "3     -0.648182  0.127471\n",
       "4     -0.434582 -0.840839\n",
       "...         ...       ...\n",
       "25389 -0.585841 -0.382892\n",
       "25390 -0.693681 -1.159858\n",
       "25391  2.020751 -0.915735\n",
       "25392  0.899448  0.110161\n",
       "25393 -0.446960 -1.777449\n",
       "\n",
       "[25394 rows x 2 columns]"
      ]
     },
     "execution_count": 62,
     "metadata": {},
     "output_type": "execute_result"
    }
   ],
   "source": [
    "pc_score[3]"
   ]
  },
  {
   "cell_type": "code",
   "execution_count": 25,
   "metadata": {},
   "outputs": [
    {
     "name": "stdout",
     "output_type": "stream",
     "text": [
      "['pcfa1', 'pcfa1_varimax', 'pcfa2', 'pcfa2_varimax', 'pcfa3', 'pcfa3_varimax']\n",
      "['mlfa1', 'mlfa1_varimax', 'mlfa1_oblimin', 'mlfa2', 'mlfa2_varimax', 'mlfa2_oblimin', 'mlfa3', 'mlfa3_varimax', 'mlfa3_oblimin']\n"
     ]
    }
   ],
   "source": [
    "print(pc_label)\n",
    "print(ml_label)"
   ]
  },
  {
   "cell_type": "code",
   "execution_count": 43,
   "metadata": {},
   "outputs": [
    {
     "data": {
      "text/html": [
       "<div>\n",
       "<style scoped>\n",
       "    .dataframe tbody tr th:only-of-type {\n",
       "        vertical-align: middle;\n",
       "    }\n",
       "\n",
       "    .dataframe tbody tr th {\n",
       "        vertical-align: top;\n",
       "    }\n",
       "\n",
       "    .dataframe thead th {\n",
       "        text-align: right;\n",
       "    }\n",
       "</style>\n",
       "<table border=\"1\" class=\"dataframe\">\n",
       "  <thead>\n",
       "    <tr style=\"text-align: right;\">\n",
       "      <th></th>\n",
       "      <th>Factor1</th>\n",
       "      <th>Factor2</th>\n",
       "      <th>Communalities</th>\n",
       "      <th>Uniquenesses</th>\n",
       "    </tr>\n",
       "  </thead>\n",
       "  <tbody>\n",
       "    <tr>\n",
       "      <th>H2a</th>\n",
       "      <td>0.855200</td>\n",
       "      <td>0.228555</td>\n",
       "      <td>0.783605</td>\n",
       "      <td>0.216395</td>\n",
       "    </tr>\n",
       "    <tr>\n",
       "      <th>H2b</th>\n",
       "      <td>0.838628</td>\n",
       "      <td>0.369868</td>\n",
       "      <td>0.840099</td>\n",
       "      <td>0.159901</td>\n",
       "    </tr>\n",
       "    <tr>\n",
       "      <th>H2c</th>\n",
       "      <td>0.729628</td>\n",
       "      <td>0.519625</td>\n",
       "      <td>0.802367</td>\n",
       "      <td>0.197633</td>\n",
       "    </tr>\n",
       "    <tr>\n",
       "      <th>H2d</th>\n",
       "      <td>0.230227</td>\n",
       "      <td>0.942431</td>\n",
       "      <td>0.941181</td>\n",
       "      <td>0.058819</td>\n",
       "    </tr>\n",
       "    <tr>\n",
       "      <th>H2e</th>\n",
       "      <td>0.855371</td>\n",
       "      <td>0.312740</td>\n",
       "      <td>0.829466</td>\n",
       "      <td>0.170534</td>\n",
       "    </tr>\n",
       "    <tr>\n",
       "      <th>H2f</th>\n",
       "      <td>0.835082</td>\n",
       "      <td>0.377862</td>\n",
       "      <td>0.840142</td>\n",
       "      <td>0.159858</td>\n",
       "    </tr>\n",
       "    <tr>\n",
       "      <th>H2g</th>\n",
       "      <td>0.833563</td>\n",
       "      <td>0.135576</td>\n",
       "      <td>0.713209</td>\n",
       "      <td>0.286791</td>\n",
       "    </tr>\n",
       "    <tr>\n",
       "      <th>H2h</th>\n",
       "      <td>0.805206</td>\n",
       "      <td>0.404414</td>\n",
       "      <td>0.811908</td>\n",
       "      <td>0.188092</td>\n",
       "    </tr>\n",
       "    <tr>\n",
       "      <th>H2i</th>\n",
       "      <td>0.857963</td>\n",
       "      <td>0.240998</td>\n",
       "      <td>0.794180</td>\n",
       "      <td>0.205820</td>\n",
       "    </tr>\n",
       "    <tr>\n",
       "      <th>H2j</th>\n",
       "      <td>0.737994</td>\n",
       "      <td>0.449890</td>\n",
       "      <td>0.747036</td>\n",
       "      <td>0.252964</td>\n",
       "    </tr>\n",
       "  </tbody>\n",
       "</table>\n",
       "</div>"
      ],
      "text/plain": [
       "      Factor1   Factor2  Communalities  Uniquenesses\n",
       "H2a  0.855200  0.228555       0.783605      0.216395\n",
       "H2b  0.838628  0.369868       0.840099      0.159901\n",
       "H2c  0.729628  0.519625       0.802367      0.197633\n",
       "H2d  0.230227  0.942431       0.941181      0.058819\n",
       "H2e  0.855371  0.312740       0.829466      0.170534\n",
       "H2f  0.835082  0.377862       0.840142      0.159858\n",
       "H2g  0.833563  0.135576       0.713209      0.286791\n",
       "H2h  0.805206  0.404414       0.811908      0.188092\n",
       "H2i  0.857963  0.240998       0.794180      0.205820\n",
       "H2j  0.737994  0.449890       0.747036      0.252964"
      ]
     },
     "execution_count": 43,
     "metadata": {},
     "output_type": "execute_result"
    }
   ],
   "source": [
    "pc_result[3]"
   ]
  },
  {
   "cell_type": "code",
   "execution_count": 56,
   "metadata": {},
   "outputs": [
    {
     "data": {
      "image/png": "[encoded data removed]",
      "text/plain": [
       "<Figure size 432x288 with 1 Axes>"
      ]
     },
     "metadata": {
      "needs_background": "light"
     },
     "output_type": "display_data"
    },
    {
     "data": {
      "image/png": "[encoded data removed]",
      "text/plain": [
       "<Figure size 432x288 with 1 Axes>"
      ]
     },
     "metadata": {
      "needs_background": "light"
     },
     "output_type": "display_data"
    }
   ],
   "source": [
    "loadings_plot(pc_result[2][[\"Factor1\", \"Factor2\"]], f\"{pc_label[2]} Loadings Plot\")\n",
    "loadings_plot(pc_result[3][[\"Factor1\", \"Factor2\"]], f\"{pc_label[3]} Loadings Plot\")"
   ]
  },
  {
   "cell_type": "code",
   "execution_count": 57,
   "metadata": {},
   "outputs": [
    {
     "data": {
      "image/png": "[encoded data removed]",
      "text/plain": [
       "<Figure size 432x288 with 1 Axes>"
      ]
     },
     "metadata": {
      "needs_background": "light"
     },
     "output_type": "display_data"
    },
    {
     "data": {
      "image/png": "[encoded data removed]",
      "text/plain": [
       "<Figure size 432x288 with 1 Axes>"
      ]
     },
     "metadata": {
      "needs_background": "light"
     },
     "output_type": "display_data"
    },
    {
     "data": {
      "image/png": "[encoded data removed]",
      "text/plain": [
       "<Figure size 432x288 with 1 Axes>"
      ]
     },
     "metadata": {
      "needs_background": "light"
     },
     "output_type": "display_data"
    }
   ],
   "source": [
    "loadings_plot(ml_result[3][[\"Factor1\", \"Factor2\"]], f\"{ml_label[3]} Loadings Plot\")\n",
    "loadings_plot(ml_result[4][[\"Factor1\", \"Factor2\"]], f\"{ml_label[4]} Loadings Plot\")\n",
    "loadings_plot(ml_result[5][[\"Factor1\", \"Factor2\"]], f\"{ml_label[5]} Loadings Plot\")"
   ]
  },
  {
   "cell_type": "code",
   "execution_count": null,
   "metadata": {},
   "outputs": [],
   "source": [
    "# fig = plt.figure(figsize=(12, 12))\n",
    "# gs = mpl.gridspec.GridSpec(3, len(pc_label) // 3)\n",
    "# ax = [ax1, ax2, ax3, ax4, ax5, ax6] = [None] * len(pc_label)\n",
    "# for factor_num in range(3):\n",
    "#     for j in range(len(pc_label) // 3):\n",
    "#         index = factor_num * 3 + j\n",
    "#         if index >= len(pc_label):\n",
    "#             break\n",
    "#         ax[index] = plt.subplot(gs[factor_num, j])\n",
    "#         plt.title(pc_label[index])\n",
    "#         if factor_num == 0:\n",
    "#             loadings_plot(pc_result[index][[\"Factor1\"]])\n",
    "#         elif factor_num == 1:\n",
    "#             loadings_plot(pc_result[index][[\"Factor1\", \"Factor2\"]])\n",
    "#         elif factor_num == 2:\n",
    "#             loadings_plot(pc_result[index][[\"Factor1\", \"Factor2\", \"Factor3\"]])\n",
    "#         plt.show()\n",
    "# gs.tight_layout(plt.gcf())"
   ]
  }
 ],
 "metadata": {
  "kernelspec": {
   "display_name": "Python 3.9.13 64-bit",
   "language": "python",
   "name": "python3"
  },
  "language_info": {
   "codemirror_mode": {
    "name": "ipython",
    "version": 3
   },
   "file_extension": ".py",
   "mimetype": "text/x-python",
   "name": "python",
   "nbconvert_exporter": "python",
   "pygments_lexer": "ipython3",
   "version": "3.10.6"
  },
  "orig_nbformat": 4,
  "vscode": {
   "interpreter": {
    "hash": "aee8b7b246df8f9039afb4144a1f6fd8d2ca17a180786b69acc140d282b71a49"
   }
  }
 },
 "nbformat": 4,
 "nbformat_minor": 2
}
